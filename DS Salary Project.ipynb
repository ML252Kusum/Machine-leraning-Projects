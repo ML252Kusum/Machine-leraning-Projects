{
 "cells": [
  {
   "cell_type": "markdown",
   "id": "312c51c5-5d4e-43e8-9b6a-cff24be7ebf5",
   "metadata": {},
   "source": [
    "STEP1:\n",
    "<------importing neccessary libraries-------->"
   ]
  },
  {
   "cell_type": "raw",
   "id": "951e830b-326e-4d63-8229-2fb49f26b875",
   "metadata": {},
   "source": [
    "<----------Step1: Importing Neccessary Libraries------------->"
   ]
  },
  {
   "cell_type": "code",
   "execution_count": 81,
   "id": "531da00b-81ea-42de-bbff-0c79bcc711bb",
   "metadata": {},
   "outputs": [],
   "source": [
    "import pandas as pd\n",
    "import numpy as np\n",
    "import seaborn as sns\n",
    "import matplotlib.pyplot as plt"
   ]
  },
  {
   "cell_type": "raw",
   "id": "50474064-9094-49d9-9262-3982254ea74a",
   "metadata": {},
   "source": [
    "<--------Step2: Reading dataset----------->"
   ]
  },
  {
   "cell_type": "code",
   "execution_count": 82,
   "id": "0e2c6a72-51b4-497c-8af8-475c41341713",
   "metadata": {
    "scrolled": true
   },
   "outputs": [
    {
     "data": {
      "text/html": [
       "<div>\n",
       "<style scoped>\n",
       "    .dataframe tbody tr th:only-of-type {\n",
       "        vertical-align: middle;\n",
       "    }\n",
       "\n",
       "    .dataframe tbody tr th {\n",
       "        vertical-align: top;\n",
       "    }\n",
       "\n",
       "    .dataframe thead th {\n",
       "        text-align: right;\n",
       "    }\n",
       "</style>\n",
       "<table border=\"1\" class=\"dataframe\">\n",
       "  <thead>\n",
       "    <tr style=\"text-align: right;\">\n",
       "      <th></th>\n",
       "      <th>work_year</th>\n",
       "      <th>experience_level</th>\n",
       "      <th>employment_type</th>\n",
       "      <th>job_title</th>\n",
       "      <th>salary</th>\n",
       "      <th>salary_currency</th>\n",
       "      <th>salary_in_usd</th>\n",
       "      <th>employee_residence</th>\n",
       "      <th>remote_ratio</th>\n",
       "      <th>company_location</th>\n",
       "      <th>company_size</th>\n",
       "    </tr>\n",
       "  </thead>\n",
       "  <tbody>\n",
       "    <tr>\n",
       "      <th>0</th>\n",
       "      <td>2023</td>\n",
       "      <td>SE</td>\n",
       "      <td>FT</td>\n",
       "      <td>Principal Data Scientist</td>\n",
       "      <td>80000</td>\n",
       "      <td>EUR</td>\n",
       "      <td>85847</td>\n",
       "      <td>ES</td>\n",
       "      <td>100</td>\n",
       "      <td>ES</td>\n",
       "      <td>L</td>\n",
       "    </tr>\n",
       "    <tr>\n",
       "      <th>1</th>\n",
       "      <td>2023</td>\n",
       "      <td>MI</td>\n",
       "      <td>CT</td>\n",
       "      <td>ML Engineer</td>\n",
       "      <td>30000</td>\n",
       "      <td>USD</td>\n",
       "      <td>30000</td>\n",
       "      <td>US</td>\n",
       "      <td>100</td>\n",
       "      <td>US</td>\n",
       "      <td>S</td>\n",
       "    </tr>\n",
       "    <tr>\n",
       "      <th>2</th>\n",
       "      <td>2023</td>\n",
       "      <td>MI</td>\n",
       "      <td>CT</td>\n",
       "      <td>ML Engineer</td>\n",
       "      <td>25500</td>\n",
       "      <td>USD</td>\n",
       "      <td>25500</td>\n",
       "      <td>US</td>\n",
       "      <td>100</td>\n",
       "      <td>US</td>\n",
       "      <td>S</td>\n",
       "    </tr>\n",
       "    <tr>\n",
       "      <th>3</th>\n",
       "      <td>2023</td>\n",
       "      <td>SE</td>\n",
       "      <td>FT</td>\n",
       "      <td>Data Scientist</td>\n",
       "      <td>175000</td>\n",
       "      <td>USD</td>\n",
       "      <td>175000</td>\n",
       "      <td>CA</td>\n",
       "      <td>100</td>\n",
       "      <td>CA</td>\n",
       "      <td>M</td>\n",
       "    </tr>\n",
       "    <tr>\n",
       "      <th>4</th>\n",
       "      <td>2023</td>\n",
       "      <td>SE</td>\n",
       "      <td>FT</td>\n",
       "      <td>Data Scientist</td>\n",
       "      <td>120000</td>\n",
       "      <td>USD</td>\n",
       "      <td>120000</td>\n",
       "      <td>CA</td>\n",
       "      <td>100</td>\n",
       "      <td>CA</td>\n",
       "      <td>M</td>\n",
       "    </tr>\n",
       "  </tbody>\n",
       "</table>\n",
       "</div>"
      ],
      "text/plain": [
       "   work_year experience_level employment_type                 job_title  \\\n",
       "0       2023               SE              FT  Principal Data Scientist   \n",
       "1       2023               MI              CT               ML Engineer   \n",
       "2       2023               MI              CT               ML Engineer   \n",
       "3       2023               SE              FT            Data Scientist   \n",
       "4       2023               SE              FT            Data Scientist   \n",
       "\n",
       "   salary salary_currency  salary_in_usd employee_residence  remote_ratio  \\\n",
       "0   80000             EUR          85847                 ES           100   \n",
       "1   30000             USD          30000                 US           100   \n",
       "2   25500             USD          25500                 US           100   \n",
       "3  175000             USD         175000                 CA           100   \n",
       "4  120000             USD         120000                 CA           100   \n",
       "\n",
       "  company_location company_size  \n",
       "0               ES            L  \n",
       "1               US            S  \n",
       "2               US            S  \n",
       "3               CA            M  \n",
       "4               CA            M  "
      ]
     },
     "execution_count": 82,
     "metadata": {},
     "output_type": "execute_result"
    }
   ],
   "source": [
    "df=pd.read_csv(\"ds_salaries (1).csv\")\n",
    "df.head(5)"
   ]
  },
  {
   "cell_type": "code",
   "execution_count": 83,
   "id": "daa2dc53-e449-4430-bf18-67459bb5efa6",
   "metadata": {},
   "outputs": [
    {
     "data": {
      "text/html": [
       "<div>\n",
       "<style scoped>\n",
       "    .dataframe tbody tr th:only-of-type {\n",
       "        vertical-align: middle;\n",
       "    }\n",
       "\n",
       "    .dataframe tbody tr th {\n",
       "        vertical-align: top;\n",
       "    }\n",
       "\n",
       "    .dataframe thead th {\n",
       "        text-align: right;\n",
       "    }\n",
       "</style>\n",
       "<table border=\"1\" class=\"dataframe\">\n",
       "  <thead>\n",
       "    <tr style=\"text-align: right;\">\n",
       "      <th></th>\n",
       "      <th>work_year</th>\n",
       "      <th>experience_level</th>\n",
       "      <th>employment_type</th>\n",
       "      <th>job_title</th>\n",
       "      <th>salary</th>\n",
       "      <th>salary_currency</th>\n",
       "      <th>salary_in_usd</th>\n",
       "      <th>employee_residence</th>\n",
       "      <th>remote_ratio</th>\n",
       "      <th>company_location</th>\n",
       "      <th>company_size</th>\n",
       "    </tr>\n",
       "  </thead>\n",
       "  <tbody>\n",
       "    <tr>\n",
       "      <th>3750</th>\n",
       "      <td>2020</td>\n",
       "      <td>SE</td>\n",
       "      <td>FT</td>\n",
       "      <td>Data Scientist</td>\n",
       "      <td>412000</td>\n",
       "      <td>USD</td>\n",
       "      <td>412000</td>\n",
       "      <td>US</td>\n",
       "      <td>100</td>\n",
       "      <td>US</td>\n",
       "      <td>L</td>\n",
       "    </tr>\n",
       "    <tr>\n",
       "      <th>3751</th>\n",
       "      <td>2021</td>\n",
       "      <td>MI</td>\n",
       "      <td>FT</td>\n",
       "      <td>Principal Data Scientist</td>\n",
       "      <td>151000</td>\n",
       "      <td>USD</td>\n",
       "      <td>151000</td>\n",
       "      <td>US</td>\n",
       "      <td>100</td>\n",
       "      <td>US</td>\n",
       "      <td>L</td>\n",
       "    </tr>\n",
       "    <tr>\n",
       "      <th>3752</th>\n",
       "      <td>2020</td>\n",
       "      <td>EN</td>\n",
       "      <td>FT</td>\n",
       "      <td>Data Scientist</td>\n",
       "      <td>105000</td>\n",
       "      <td>USD</td>\n",
       "      <td>105000</td>\n",
       "      <td>US</td>\n",
       "      <td>100</td>\n",
       "      <td>US</td>\n",
       "      <td>S</td>\n",
       "    </tr>\n",
       "    <tr>\n",
       "      <th>3753</th>\n",
       "      <td>2020</td>\n",
       "      <td>EN</td>\n",
       "      <td>CT</td>\n",
       "      <td>Business Data Analyst</td>\n",
       "      <td>100000</td>\n",
       "      <td>USD</td>\n",
       "      <td>100000</td>\n",
       "      <td>US</td>\n",
       "      <td>100</td>\n",
       "      <td>US</td>\n",
       "      <td>L</td>\n",
       "    </tr>\n",
       "    <tr>\n",
       "      <th>3754</th>\n",
       "      <td>2021</td>\n",
       "      <td>SE</td>\n",
       "      <td>FT</td>\n",
       "      <td>Data Science Manager</td>\n",
       "      <td>7000000</td>\n",
       "      <td>INR</td>\n",
       "      <td>94665</td>\n",
       "      <td>IN</td>\n",
       "      <td>50</td>\n",
       "      <td>IN</td>\n",
       "      <td>L</td>\n",
       "    </tr>\n",
       "  </tbody>\n",
       "</table>\n",
       "</div>"
      ],
      "text/plain": [
       "      work_year experience_level employment_type                 job_title  \\\n",
       "3750       2020               SE              FT            Data Scientist   \n",
       "3751       2021               MI              FT  Principal Data Scientist   \n",
       "3752       2020               EN              FT            Data Scientist   \n",
       "3753       2020               EN              CT     Business Data Analyst   \n",
       "3754       2021               SE              FT      Data Science Manager   \n",
       "\n",
       "       salary salary_currency  salary_in_usd employee_residence  remote_ratio  \\\n",
       "3750   412000             USD         412000                 US           100   \n",
       "3751   151000             USD         151000                 US           100   \n",
       "3752   105000             USD         105000                 US           100   \n",
       "3753   100000             USD         100000                 US           100   \n",
       "3754  7000000             INR          94665                 IN            50   \n",
       "\n",
       "     company_location company_size  \n",
       "3750               US            L  \n",
       "3751               US            L  \n",
       "3752               US            S  \n",
       "3753               US            L  \n",
       "3754               IN            L  "
      ]
     },
     "execution_count": 83,
     "metadata": {},
     "output_type": "execute_result"
    }
   ],
   "source": [
    "df.tail()"
   ]
  },
  {
   "cell_type": "raw",
   "id": "baac8ece-7c46-4b0f-a629-297cbaa5a8fe",
   "metadata": {},
   "source": [
    "<--------Step3: Data scanity check----------->"
   ]
  },
  {
   "cell_type": "code",
   "execution_count": 84,
   "id": "3ba6e74b-d999-4db4-9da4-8728b2addd6d",
   "metadata": {},
   "outputs": [
    {
     "data": {
      "text/plain": [
       "(3755, 11)"
      ]
     },
     "execution_count": 84,
     "metadata": {},
     "output_type": "execute_result"
    }
   ],
   "source": [
    "df.shape"
   ]
  },
  {
   "cell_type": "code",
   "execution_count": 85,
   "id": "6b8ab4e9-941a-4885-8c04-e46c12df179e",
   "metadata": {},
   "outputs": [
    {
     "name": "stdout",
     "output_type": "stream",
     "text": [
      "<class 'pandas.core.frame.DataFrame'>\n",
      "RangeIndex: 3755 entries, 0 to 3754\n",
      "Data columns (total 11 columns):\n",
      " #   Column              Non-Null Count  Dtype \n",
      "---  ------              --------------  ----- \n",
      " 0   work_year           3755 non-null   int64 \n",
      " 1   experience_level    3755 non-null   object\n",
      " 2   employment_type     3755 non-null   object\n",
      " 3   job_title           3755 non-null   object\n",
      " 4   salary              3755 non-null   int64 \n",
      " 5   salary_currency     3755 non-null   object\n",
      " 6   salary_in_usd       3755 non-null   int64 \n",
      " 7   employee_residence  3755 non-null   object\n",
      " 8   remote_ratio        3755 non-null   int64 \n",
      " 9   company_location    3755 non-null   object\n",
      " 10  company_size        3755 non-null   object\n",
      "dtypes: int64(4), object(7)\n",
      "memory usage: 322.8+ KB\n"
     ]
    }
   ],
   "source": [
    "df.info()"
   ]
  },
  {
   "cell_type": "code",
   "execution_count": 86,
   "id": "e4ea90e8-5894-4436-86c8-76e51f5a3e21",
   "metadata": {},
   "outputs": [
    {
     "data": {
      "text/plain": [
       "work_year             0\n",
       "experience_level      0\n",
       "employment_type       0\n",
       "job_title             0\n",
       "salary                0\n",
       "salary_currency       0\n",
       "salary_in_usd         0\n",
       "employee_residence    0\n",
       "remote_ratio          0\n",
       "company_location      0\n",
       "company_size          0\n",
       "dtype: int64"
      ]
     },
     "execution_count": 86,
     "metadata": {},
     "output_type": "execute_result"
    }
   ],
   "source": [
    "df.isnull().sum()"
   ]
  },
  {
   "cell_type": "code",
   "execution_count": 87,
   "id": "09bd3442-588a-45ff-a118-3eb4b63c4fb8",
   "metadata": {},
   "outputs": [
    {
     "data": {
      "text/plain": [
       "1171"
      ]
     },
     "execution_count": 87,
     "metadata": {},
     "output_type": "execute_result"
    }
   ],
   "source": [
    "df.duplicated().sum()"
   ]
  },
  {
   "cell_type": "code",
   "execution_count": 88,
   "id": "b3365f03-2dc2-4974-a73d-3f132e24edaa",
   "metadata": {
    "scrolled": true
   },
   "outputs": [
    {
     "name": "stdout",
     "output_type": "stream",
     "text": [
      "experience_level\n",
      "SE    2516\n",
      "MI     805\n",
      "EN     320\n",
      "EX     114\n",
      "Name: count, dtype: int64\n",
      "******************************\n",
      "employment_type\n",
      "FT    3718\n",
      "PT      17\n",
      "CT      10\n",
      "FL      10\n",
      "Name: count, dtype: int64\n",
      "******************************\n",
      "job_title\n",
      "Data Engineer                          1040\n",
      "Data Scientist                          840\n",
      "Data Analyst                            612\n",
      "Machine Learning Engineer               289\n",
      "Analytics Engineer                      103\n",
      "                                       ... \n",
      "Principal Machine Learning Engineer       1\n",
      "Azure Data Engineer                       1\n",
      "Manager Data Management                   1\n",
      "Marketing Data Engineer                   1\n",
      "Finance Data Analyst                      1\n",
      "Name: count, Length: 93, dtype: int64\n",
      "******************************\n",
      "salary_currency\n",
      "USD    3224\n",
      "EUR     236\n",
      "GBP     161\n",
      "INR      60\n",
      "CAD      25\n",
      "AUD       9\n",
      "SGD       6\n",
      "BRL       6\n",
      "PLN       5\n",
      "CHF       4\n",
      "HUF       3\n",
      "DKK       3\n",
      "JPY       3\n",
      "TRY       3\n",
      "THB       2\n",
      "ILS       1\n",
      "HKD       1\n",
      "CZK       1\n",
      "MXN       1\n",
      "CLP       1\n",
      "Name: count, dtype: int64\n",
      "******************************\n",
      "employee_residence\n",
      "US    3004\n",
      "GB     167\n",
      "CA      85\n",
      "ES      80\n",
      "IN      71\n",
      "      ... \n",
      "BA       1\n",
      "AM       1\n",
      "CY       1\n",
      "KW       1\n",
      "MT       1\n",
      "Name: count, Length: 78, dtype: int64\n",
      "******************************\n",
      "company_location\n",
      "US    3040\n",
      "GB     172\n",
      "CA      87\n",
      "ES      77\n",
      "IN      58\n",
      "      ... \n",
      "MK       1\n",
      "BS       1\n",
      "IR       1\n",
      "CR       1\n",
      "MT       1\n",
      "Name: count, Length: 72, dtype: int64\n",
      "******************************\n",
      "company_size\n",
      "M    3153\n",
      "L     454\n",
      "S     148\n",
      "Name: count, dtype: int64\n",
      "******************************\n"
     ]
    }
   ],
   "source": [
    "## Indentifying garbage values\n",
    "\n",
    "for i in df.select_dtypes(include=\"object\").columns:\n",
    "    print(df[i].value_counts())\n",
    "    print(\"***\"*10)"
   ]
  },
  {
   "cell_type": "code",
   "execution_count": 89,
   "id": "427ece5d-c7d2-435b-bc09-de9821f3b3f6",
   "metadata": {},
   "outputs": [
    {
     "data": {
      "text/html": [
       "<div>\n",
       "<style scoped>\n",
       "    .dataframe tbody tr th:only-of-type {\n",
       "        vertical-align: middle;\n",
       "    }\n",
       "\n",
       "    .dataframe tbody tr th {\n",
       "        vertical-align: top;\n",
       "    }\n",
       "\n",
       "    .dataframe thead th {\n",
       "        text-align: right;\n",
       "    }\n",
       "</style>\n",
       "<table border=\"1\" class=\"dataframe\">\n",
       "  <thead>\n",
       "    <tr style=\"text-align: right;\">\n",
       "      <th></th>\n",
       "      <th>count</th>\n",
       "      <th>mean</th>\n",
       "      <th>std</th>\n",
       "      <th>min</th>\n",
       "      <th>25%</th>\n",
       "      <th>50%</th>\n",
       "      <th>75%</th>\n",
       "      <th>max</th>\n",
       "    </tr>\n",
       "  </thead>\n",
       "  <tbody>\n",
       "    <tr>\n",
       "      <th>work_year</th>\n",
       "      <td>3755.0</td>\n",
       "      <td>2022.373635</td>\n",
       "      <td>0.691448</td>\n",
       "      <td>2020.0</td>\n",
       "      <td>2022.0</td>\n",
       "      <td>2022.0</td>\n",
       "      <td>2023.0</td>\n",
       "      <td>2023.0</td>\n",
       "    </tr>\n",
       "    <tr>\n",
       "      <th>salary</th>\n",
       "      <td>3755.0</td>\n",
       "      <td>190695.571771</td>\n",
       "      <td>671676.500508</td>\n",
       "      <td>6000.0</td>\n",
       "      <td>100000.0</td>\n",
       "      <td>138000.0</td>\n",
       "      <td>180000.0</td>\n",
       "      <td>30400000.0</td>\n",
       "    </tr>\n",
       "    <tr>\n",
       "      <th>salary_in_usd</th>\n",
       "      <td>3755.0</td>\n",
       "      <td>137570.389880</td>\n",
       "      <td>63055.625278</td>\n",
       "      <td>5132.0</td>\n",
       "      <td>95000.0</td>\n",
       "      <td>135000.0</td>\n",
       "      <td>175000.0</td>\n",
       "      <td>450000.0</td>\n",
       "    </tr>\n",
       "    <tr>\n",
       "      <th>remote_ratio</th>\n",
       "      <td>3755.0</td>\n",
       "      <td>46.271638</td>\n",
       "      <td>48.589050</td>\n",
       "      <td>0.0</td>\n",
       "      <td>0.0</td>\n",
       "      <td>0.0</td>\n",
       "      <td>100.0</td>\n",
       "      <td>100.0</td>\n",
       "    </tr>\n",
       "  </tbody>\n",
       "</table>\n",
       "</div>"
      ],
      "text/plain": [
       "                count           mean            std     min       25%  \\\n",
       "work_year      3755.0    2022.373635       0.691448  2020.0    2022.0   \n",
       "salary         3755.0  190695.571771  671676.500508  6000.0  100000.0   \n",
       "salary_in_usd  3755.0  137570.389880   63055.625278  5132.0   95000.0   \n",
       "remote_ratio   3755.0      46.271638      48.589050     0.0       0.0   \n",
       "\n",
       "                    50%       75%         max  \n",
       "work_year        2022.0    2023.0      2023.0  \n",
       "salary         138000.0  180000.0  30400000.0  \n",
       "salary_in_usd  135000.0  175000.0    450000.0  \n",
       "remote_ratio        0.0     100.0       100.0  "
      ]
     },
     "execution_count": 89,
     "metadata": {},
     "output_type": "execute_result"
    }
   ],
   "source": [
    "df.describe().T"
   ]
  },
  {
   "cell_type": "code",
   "execution_count": 90,
   "id": "80015712-26b0-4654-acd8-6e28209c4f85",
   "metadata": {
    "scrolled": true
   },
   "outputs": [
    {
     "data": {
      "text/html": [
       "<div>\n",
       "<style scoped>\n",
       "    .dataframe tbody tr th:only-of-type {\n",
       "        vertical-align: middle;\n",
       "    }\n",
       "\n",
       "    .dataframe tbody tr th {\n",
       "        vertical-align: top;\n",
       "    }\n",
       "\n",
       "    .dataframe thead th {\n",
       "        text-align: right;\n",
       "    }\n",
       "</style>\n",
       "<table border=\"1\" class=\"dataframe\">\n",
       "  <thead>\n",
       "    <tr style=\"text-align: right;\">\n",
       "      <th></th>\n",
       "      <th>experience_level</th>\n",
       "      <th>employment_type</th>\n",
       "      <th>job_title</th>\n",
       "      <th>salary_currency</th>\n",
       "      <th>employee_residence</th>\n",
       "      <th>company_location</th>\n",
       "      <th>company_size</th>\n",
       "    </tr>\n",
       "  </thead>\n",
       "  <tbody>\n",
       "    <tr>\n",
       "      <th>count</th>\n",
       "      <td>3755</td>\n",
       "      <td>3755</td>\n",
       "      <td>3755</td>\n",
       "      <td>3755</td>\n",
       "      <td>3755</td>\n",
       "      <td>3755</td>\n",
       "      <td>3755</td>\n",
       "    </tr>\n",
       "    <tr>\n",
       "      <th>unique</th>\n",
       "      <td>4</td>\n",
       "      <td>4</td>\n",
       "      <td>93</td>\n",
       "      <td>20</td>\n",
       "      <td>78</td>\n",
       "      <td>72</td>\n",
       "      <td>3</td>\n",
       "    </tr>\n",
       "    <tr>\n",
       "      <th>top</th>\n",
       "      <td>SE</td>\n",
       "      <td>FT</td>\n",
       "      <td>Data Engineer</td>\n",
       "      <td>USD</td>\n",
       "      <td>US</td>\n",
       "      <td>US</td>\n",
       "      <td>M</td>\n",
       "    </tr>\n",
       "    <tr>\n",
       "      <th>freq</th>\n",
       "      <td>2516</td>\n",
       "      <td>3718</td>\n",
       "      <td>1040</td>\n",
       "      <td>3224</td>\n",
       "      <td>3004</td>\n",
       "      <td>3040</td>\n",
       "      <td>3153</td>\n",
       "    </tr>\n",
       "  </tbody>\n",
       "</table>\n",
       "</div>"
      ],
      "text/plain": [
       "       experience_level employment_type      job_title salary_currency  \\\n",
       "count              3755            3755           3755            3755   \n",
       "unique                4               4             93              20   \n",
       "top                  SE              FT  Data Engineer             USD   \n",
       "freq               2516            3718           1040            3224   \n",
       "\n",
       "       employee_residence company_location company_size  \n",
       "count                3755             3755         3755  \n",
       "unique                 78               72            3  \n",
       "top                    US               US            M  \n",
       "freq                 3004             3040         3153  "
      ]
     },
     "execution_count": 90,
     "metadata": {},
     "output_type": "execute_result"
    }
   ],
   "source": [
    "df.describe(include=\"object\")"
   ]
  },
  {
   "cell_type": "raw",
   "id": "9c3ae153-e718-48c1-af15-8673a0d4a46c",
   "metadata": {},
   "source": [
    "<----------Step4: Exploratory Data Analysis (EDA) --------->"
   ]
  },
  {
   "cell_type": "code",
   "execution_count": 91,
   "id": "08a54705-eef8-4293-b8bf-0885cbb4646a",
   "metadata": {
    "scrolled": true
   },
   "outputs": [
    {
     "data": {
      "image/png": "[encoded data removed]",
      "text/plain": [
       "<Figure size 640x480 with 1 Axes>"
      ]
     },
     "metadata": {},
     "output_type": "display_data"
    },
    {
     "data": {
      "text/plain": [
       "<Figure size 10x10 with 0 Axes>"
      ]
     },
     "metadata": {},
     "output_type": "display_data"
    },
    {
     "data": {
      "image/png": "[encoded data removed]",
      "text/plain": [
       "<Figure size 640x480 with 1 Axes>"
      ]
     },
     "metadata": {},
     "output_type": "display_data"
    },
    {
     "data": {
      "text/plain": [
       "<Figure size 10x10 with 0 Axes>"
      ]
     },
     "metadata": {},
     "output_type": "display_data"
    },
    {
     "data": {
      "image/png": "[encoded data removed]",
      "text/plain": [
       "<Figure size 640x480 with 1 Axes>"
      ]
     },
     "metadata": {},
     "output_type": "display_data"
    },
    {
     "data": {
      "text/plain": [
       "<Figure size 10x10 with 0 Axes>"
      ]
     },
     "metadata": {},
     "output_type": "display_data"
    },
    {
     "data": {
      "image/png": "[encoded data removed]",
      "text/plain": [
       "<Figure size 640x480 with 1 Axes>"
      ]
     },
     "metadata": {},
     "output_type": "display_data"
    },
    {
     "data": {
      "text/plain": [
       "<Figure size 10x10 with 0 Axes>"
      ]
     },
     "metadata": {},
     "output_type": "display_data"
    }
   ],
   "source": [
    "## Histogram to understand the distribution\n",
    "\n",
    "import warnings\n",
    "warnings.filterwarnings(\"ignore\")\n",
    "for i in df.select_dtypes(include=\"int\").columns:\n",
    "    sns.histplot(data=df,x=i)\n",
    "    plt.figure(figsize=(0.1,0.1))\n",
    "    plt.show()"
   ]
  },
  {
   "cell_type": "code",
   "execution_count": 92,
   "id": "3545b925-1ac6-4a59-8f17-98accc725e87",
   "metadata": {
    "scrolled": true
   },
   "outputs": [
    {
     "data": {
      "image/png": "[encoded data removed]",
      "text/plain": [
       "<Figure size 640x480 with 1 Axes>"
      ]
     },
     "metadata": {},
     "output_type": "display_data"
    },
    {
     "data": {
      "text/plain": [
       "<Figure size 10x10 with 0 Axes>"
      ]
     },
     "metadata": {},
     "output_type": "display_data"
    },
    {
     "data": {
      "image/png": "[encoded data removed]",
      "text/plain": [
       "<Figure size 640x480 with 1 Axes>"
      ]
     },
     "metadata": {},
     "output_type": "display_data"
    },
    {
     "data": {
      "text/plain": [
       "<Figure size 10x10 with 0 Axes>"
      ]
     },
     "metadata": {},
     "output_type": "display_data"
    },
    {
     "data": {
      "image/png": "[encoded data removed]",
      "text/plain": [
       "<Figure size 640x480 with 1 Axes>"
      ]
     },
     "metadata": {},
     "output_type": "display_data"
    },
    {
     "data": {
      "text/plain": [
       "<Figure size 10x10 with 0 Axes>"
      ]
     },
     "metadata": {},
     "output_type": "display_data"
    },
    {
     "data": {
      "image/png": "[encoded data removed]",
      "text/plain": [
       "<Figure size 640x480 with 1 Axes>"
      ]
     },
     "metadata": {},
     "output_type": "display_data"
    },
    {
     "data": {
      "text/plain": [
       "<Figure size 10x10 with 0 Axes>"
      ]
     },
     "metadata": {},
     "output_type": "display_data"
    }
   ],
   "source": [
    "## Boxplot to undersatnd the outliers\n",
    "\n",
    "import warnings\n",
    "warnings.filterwarnings(\"ignore\")\n",
    "for i in df.select_dtypes(include=\"int\").columns:\n",
    "    sns.boxplot(data=df,x=i)\n",
    "    plt.figure(figsize=(0.1,0.1))\n",
    "    plt.show()"
   ]
  },
  {
   "cell_type": "code",
   "execution_count": 93,
   "id": "5c85288a-a18b-4153-bd2f-9c23d57ee6c6",
   "metadata": {},
   "outputs": [
    {
     "data": {
      "text/plain": [
       "Index(['work_year', 'salary', 'salary_in_usd', 'remote_ratio'], dtype='object')"
      ]
     },
     "execution_count": 93,
     "metadata": {},
     "output_type": "execute_result"
    }
   ],
   "source": [
    "## scatter plot to undersatnd the realtionship between target and independent variables.\n",
    "\n",
    "df.select_dtypes(include=\"int\").columns"
   ]
  },
  {
   "cell_type": "code",
   "execution_count": 94,
   "id": "e3314226-8276-4868-a91d-5af9abfd8ee2",
   "metadata": {
    "scrolled": true
   },
   "outputs": [
    {
     "data": {
      "image/png": "[encoded data removed]",
      "text/plain": [
       "<Figure size 640x480 with 1 Axes>"
      ]
     },
     "metadata": {},
     "output_type": "display_data"
    },
    {
     "data": {
      "image/png": "[encoded data removed]",
      "text/plain": [
       "<Figure size 640x480 with 1 Axes>"
      ]
     },
     "metadata": {},
     "output_type": "display_data"
    },
    {
     "data": {
      "image/png": "[encoded data removed]",
      "text/plain": [
       "<Figure size 640x480 with 1 Axes>"
      ]
     },
     "metadata": {},
     "output_type": "display_data"
    }
   ],
   "source": [
    "for i in ['work_year','salary_in_usd', 'remote_ratio']:\n",
    "    sns.scatterplot(data=df,x=i,y='salary')\n",
    "    plt.show()"
   ]
  },
  {
   "cell_type": "code",
   "execution_count": 95,
   "id": "62d620c8-8551-48ce-92f8-bea331c6ffbd",
   "metadata": {
    "scrolled": true
   },
   "outputs": [
    {
     "data": {
      "text/plain": [
       "<Axes: >"
      ]
     },
     "execution_count": 95,
     "metadata": {},
     "output_type": "execute_result"
    },
    {
     "data": {
      "image/png": "[encoded data removed]",
      "text/plain": [
       "<Figure size 640x480 with 2 Axes>"
      ]
     },
     "metadata": {},
     "output_type": "display_data"
    }
   ],
   "source": [
    "## Correlation between the variables\n",
    "s=df.select_dtypes(include=\"number\").corr()\n",
    "sns.heatmap(s,annot=True)"
   ]
  },
  {
   "cell_type": "raw",
   "id": "1372ea75-4382-4a56-90d3-dfbf0d37b2ea",
   "metadata": {},
   "source": [
    "<--------Step5: Outliers Treatment -------> which is done only for continous numerical data"
   ]
  },
  {
   "cell_type": "code",
   "execution_count": 96,
   "id": "ec426942-e7a4-40f4-ac1e-2492ec9782cc",
   "metadata": {},
   "outputs": [],
   "source": [
    "#Here we use wisker function\n",
    "\n",
    "def wisker(col):\n",
    "    q1,q3=np.percentile(col,[25,75])\n",
    "    iqr=q3-q1\n",
    "    lw=q1-1.5*iqr\n",
    "    uw=q3+1.5*iqr\n",
    "    return lw,uw"
   ]
  },
  {
   "cell_type": "code",
   "execution_count": 97,
   "id": "07e14f91-8e91-4729-b751-754c7f220ba5",
   "metadata": {
    "scrolled": true
   },
   "outputs": [
    {
     "data": {
      "text/plain": [
       "(-25000.0, 295000.0)"
      ]
     },
     "execution_count": 97,
     "metadata": {},
     "output_type": "execute_result"
    }
   ],
   "source": [
    "wisker(df['salary_in_usd'])"
   ]
  },
  {
   "cell_type": "code",
   "execution_count": 98,
   "id": "c4042a71-1780-4c87-a140-7d162c0962f3",
   "metadata": {},
   "outputs": [],
   "source": [
    "for i in ['salary_in_usd','remote_ratio']:\n",
    "    lw,uw=wisker(df[i])\n",
    "    df[i]=np.where(df[i]<lw,lw,df[i])\n",
    "    df[i]=np.where(df[i]>uw,uw,df[i])"
   ]
  },
  {
   "cell_type": "code",
   "execution_count": 99,
   "id": "5304ea01-3585-4498-b083-f34a47dd78f0",
   "metadata": {
    "scrolled": true
   },
   "outputs": [
    {
     "data": {
      "image/png": "[encoded data removed]",
      "text/plain": [
       "<Figure size 640x480 with 1 Axes>"
      ]
     },
     "metadata": {},
     "output_type": "display_data"
    },
    {
     "data": {
      "image/png": "[encoded data removed]",
      "text/plain": [
       "<Figure size 640x480 with 1 Axes>"
      ]
     },
     "metadata": {},
     "output_type": "display_data"
    }
   ],
   "source": [
    "for i in ['salary_in_usd','remote_ratio']:\n",
    "    sns.boxplot(df[i])\n",
    "    plt.show()"
   ]
  },
  {
   "cell_type": "code",
   "execution_count": 100,
   "id": "1951abcb-8e48-4621-b37a-658761efafd3",
   "metadata": {},
   "outputs": [],
   "source": [
    "# Hence we are done with outliers treatment of continous numerical value"
   ]
  },
  {
   "cell_type": "raw",
   "id": "a6385d1a-a717-4e83-aece-e84185e807b4",
   "metadata": {},
   "source": [
    "<-------Step6: Encoding-------->"
   ]
  },
  {
   "cell_type": "code",
   "execution_count": 101,
   "id": "a16d077a-ab29-4d0c-bb1b-39a7fd52dc77",
   "metadata": {},
   "outputs": [
    {
     "name": "stdout",
     "output_type": "stream",
     "text": [
      "experience_level\n",
      "SE    2516\n",
      "MI     805\n",
      "EN     320\n",
      "EX     114\n",
      "Name: count, dtype: int64\n",
      "employment_type\n",
      "FT    3718\n",
      "PT      17\n",
      "CT      10\n",
      "FL      10\n",
      "Name: count, dtype: int64\n",
      "job_title\n",
      "Data Engineer                          1040\n",
      "Data Scientist                          840\n",
      "Data Analyst                            612\n",
      "Machine Learning Engineer               289\n",
      "Analytics Engineer                      103\n",
      "                                       ... \n",
      "Principal Machine Learning Engineer       1\n",
      "Azure Data Engineer                       1\n",
      "Manager Data Management                   1\n",
      "Marketing Data Engineer                   1\n",
      "Finance Data Analyst                      1\n",
      "Name: count, Length: 93, dtype: int64\n",
      "salary_currency\n",
      "USD    3224\n",
      "EUR     236\n",
      "GBP     161\n",
      "INR      60\n",
      "CAD      25\n",
      "AUD       9\n",
      "SGD       6\n",
      "BRL       6\n",
      "PLN       5\n",
      "CHF       4\n",
      "HUF       3\n",
      "DKK       3\n",
      "JPY       3\n",
      "TRY       3\n",
      "THB       2\n",
      "ILS       1\n",
      "HKD       1\n",
      "CZK       1\n",
      "MXN       1\n",
      "CLP       1\n",
      "Name: count, dtype: int64\n",
      "employee_residence\n",
      "US    3004\n",
      "GB     167\n",
      "CA      85\n",
      "ES      80\n",
      "IN      71\n",
      "      ... \n",
      "BA       1\n",
      "AM       1\n",
      "CY       1\n",
      "KW       1\n",
      "MT       1\n",
      "Name: count, Length: 78, dtype: int64\n",
      "company_location\n",
      "US    3040\n",
      "GB     172\n",
      "CA      87\n",
      "ES      77\n",
      "IN      58\n",
      "      ... \n",
      "MK       1\n",
      "BS       1\n",
      "IR       1\n",
      "CR       1\n",
      "MT       1\n",
      "Name: count, Length: 72, dtype: int64\n",
      "company_size\n",
      "M    3153\n",
      "L     454\n",
      "S     148\n",
      "Name: count, dtype: int64\n"
     ]
    }
   ],
   "source": [
    "for feat in df.select_dtypes(include=['object']):\n",
    "    print(df.select_dtypes(include=['object'])[feat].value_counts())"
   ]
  },
  {
   "cell_type": "code",
   "execution_count": 102,
   "id": "06e81107-ad78-4fd5-b988-a2247a93bc22",
   "metadata": {},
   "outputs": [],
   "source": [
    "from sklearn.preprocessing import LabelEncoder\n",
    "le=LabelEncoder()"
   ]
  },
  {
   "cell_type": "code",
   "execution_count": 103,
   "id": "f67cc57d-83cc-4bb8-80d2-ae7b50f67ace",
   "metadata": {},
   "outputs": [
    {
     "data": {
      "text/plain": [
       "array([3, 2, 2, ..., 0, 0, 3])"
      ]
     },
     "execution_count": 103,
     "metadata": {},
     "output_type": "execute_result"
    }
   ],
   "source": [
    "le.fit_transform(df['experience_level'])"
   ]
  },
  {
   "cell_type": "code",
   "execution_count": 104,
   "id": "a987cca5-e17b-44ad-b249-04c0da1bef2a",
   "metadata": {
    "scrolled": true
   },
   "outputs": [
    {
     "data": {
      "text/html": [
       "<div>\n",
       "<style scoped>\n",
       "    .dataframe tbody tr th:only-of-type {\n",
       "        vertical-align: middle;\n",
       "    }\n",
       "\n",
       "    .dataframe tbody tr th {\n",
       "        vertical-align: top;\n",
       "    }\n",
       "\n",
       "    .dataframe thead th {\n",
       "        text-align: right;\n",
       "    }\n",
       "</style>\n",
       "<table border=\"1\" class=\"dataframe\">\n",
       "  <thead>\n",
       "    <tr style=\"text-align: right;\">\n",
       "      <th></th>\n",
       "      <th>work_year</th>\n",
       "      <th>experience_level</th>\n",
       "      <th>employment_type</th>\n",
       "      <th>job_title</th>\n",
       "      <th>salary</th>\n",
       "      <th>salary_currency</th>\n",
       "      <th>salary_in_usd</th>\n",
       "      <th>employee_residence</th>\n",
       "      <th>remote_ratio</th>\n",
       "      <th>company_location</th>\n",
       "      <th>company_size</th>\n",
       "      <th>en_experience_level</th>\n",
       "    </tr>\n",
       "  </thead>\n",
       "  <tbody>\n",
       "    <tr>\n",
       "      <th>0</th>\n",
       "      <td>2023</td>\n",
       "      <td>SE</td>\n",
       "      <td>FT</td>\n",
       "      <td>Principal Data Scientist</td>\n",
       "      <td>80000</td>\n",
       "      <td>EUR</td>\n",
       "      <td>85847.0</td>\n",
       "      <td>ES</td>\n",
       "      <td>100.0</td>\n",
       "      <td>ES</td>\n",
       "      <td>L</td>\n",
       "      <td>3</td>\n",
       "    </tr>\n",
       "    <tr>\n",
       "      <th>1</th>\n",
       "      <td>2023</td>\n",
       "      <td>MI</td>\n",
       "      <td>CT</td>\n",
       "      <td>ML Engineer</td>\n",
       "      <td>30000</td>\n",
       "      <td>USD</td>\n",
       "      <td>30000.0</td>\n",
       "      <td>US</td>\n",
       "      <td>100.0</td>\n",
       "      <td>US</td>\n",
       "      <td>S</td>\n",
       "      <td>2</td>\n",
       "    </tr>\n",
       "  </tbody>\n",
       "</table>\n",
       "</div>"
      ],
      "text/plain": [
       "   work_year experience_level employment_type                 job_title  \\\n",
       "0       2023               SE              FT  Principal Data Scientist   \n",
       "1       2023               MI              CT               ML Engineer   \n",
       "\n",
       "   salary salary_currency  salary_in_usd employee_residence  remote_ratio  \\\n",
       "0   80000             EUR        85847.0                 ES         100.0   \n",
       "1   30000             USD        30000.0                 US         100.0   \n",
       "\n",
       "  company_location company_size  en_experience_level  \n",
       "0               ES            L                    3  \n",
       "1               US            S                    2  "
      ]
     },
     "execution_count": 104,
     "metadata": {},
     "output_type": "execute_result"
    }
   ],
   "source": [
    "df['en_experience_level']=le.fit_transform(df['experience_level'])\n",
    "df.head(2)"
   ]
  },
  {
   "cell_type": "code",
   "execution_count": 105,
   "id": "0eee5f09-8dcc-4e13-b3c1-2ef54c30e125",
   "metadata": {},
   "outputs": [],
   "source": [
    "df['en_employment_type']=le.fit_transform(df['employment_type'])"
   ]
  },
  {
   "cell_type": "code",
   "execution_count": 106,
   "id": "96b4834f-9647-410f-a79b-c18eaee742d5",
   "metadata": {},
   "outputs": [],
   "source": [
    "df['en_job_title']=le.fit_transform(df['job_title'])"
   ]
  },
  {
   "cell_type": "code",
   "execution_count": 107,
   "id": "6c051720-17c1-4b50-9d3e-dc029bbff92c",
   "metadata": {},
   "outputs": [],
   "source": [
    "df['en_salary_currency']=le.fit_transform(df['salary_currency'])"
   ]
  },
  {
   "cell_type": "code",
   "execution_count": 108,
   "id": "e99b9d16-bc8b-4216-bc03-b45619c7f601",
   "metadata": {},
   "outputs": [],
   "source": [
    "df['en_employee_residence']=le.fit_transform(df['employee_residence'])"
   ]
  },
  {
   "cell_type": "code",
   "execution_count": 109,
   "id": "3b15050c-d4b1-4d49-9492-3e6a6e0fc89b",
   "metadata": {},
   "outputs": [],
   "source": [
    "df['en_company_location']=le.fit_transform(df['company_location'])"
   ]
  },
  {
   "cell_type": "code",
   "execution_count": 110,
   "id": "32412516-5f53-48f5-8be8-bcdc6fc92cda",
   "metadata": {},
   "outputs": [],
   "source": [
    "df['en_comapny_size']=le.fit_transform(df['company_size'])"
   ]
  },
  {
   "cell_type": "code",
   "execution_count": 111,
   "id": "4c6da885-7a65-4efb-9859-886f01889cc5",
   "metadata": {},
   "outputs": [
    {
     "data": {
      "text/html": [
       "<div>\n",
       "<style scoped>\n",
       "    .dataframe tbody tr th:only-of-type {\n",
       "        vertical-align: middle;\n",
       "    }\n",
       "\n",
       "    .dataframe tbody tr th {\n",
       "        vertical-align: top;\n",
       "    }\n",
       "\n",
       "    .dataframe thead th {\n",
       "        text-align: right;\n",
       "    }\n",
       "</style>\n",
       "<table border=\"1\" class=\"dataframe\">\n",
       "  <thead>\n",
       "    <tr style=\"text-align: right;\">\n",
       "      <th></th>\n",
       "      <th>work_year</th>\n",
       "      <th>experience_level</th>\n",
       "      <th>employment_type</th>\n",
       "      <th>job_title</th>\n",
       "      <th>salary</th>\n",
       "      <th>salary_currency</th>\n",
       "      <th>salary_in_usd</th>\n",
       "      <th>employee_residence</th>\n",
       "      <th>remote_ratio</th>\n",
       "      <th>company_location</th>\n",
       "      <th>company_size</th>\n",
       "      <th>en_experience_level</th>\n",
       "      <th>en_employment_type</th>\n",
       "      <th>en_job_title</th>\n",
       "      <th>en_salary_currency</th>\n",
       "      <th>en_employee_residence</th>\n",
       "      <th>en_company_location</th>\n",
       "      <th>en_comapny_size</th>\n",
       "    </tr>\n",
       "  </thead>\n",
       "  <tbody>\n",
       "    <tr>\n",
       "      <th>0</th>\n",
       "      <td>2023</td>\n",
       "      <td>SE</td>\n",
       "      <td>FT</td>\n",
       "      <td>Principal Data Scientist</td>\n",
       "      <td>80000</td>\n",
       "      <td>EUR</td>\n",
       "      <td>85847.0</td>\n",
       "      <td>ES</td>\n",
       "      <td>100.0</td>\n",
       "      <td>ES</td>\n",
       "      <td>L</td>\n",
       "      <td>3</td>\n",
       "      <td>2</td>\n",
       "      <td>84</td>\n",
       "      <td>7</td>\n",
       "      <td>26</td>\n",
       "      <td>25</td>\n",
       "      <td>0</td>\n",
       "    </tr>\n",
       "    <tr>\n",
       "      <th>1</th>\n",
       "      <td>2023</td>\n",
       "      <td>MI</td>\n",
       "      <td>CT</td>\n",
       "      <td>ML Engineer</td>\n",
       "      <td>30000</td>\n",
       "      <td>USD</td>\n",
       "      <td>30000.0</td>\n",
       "      <td>US</td>\n",
       "      <td>100.0</td>\n",
       "      <td>US</td>\n",
       "      <td>S</td>\n",
       "      <td>2</td>\n",
       "      <td>0</td>\n",
       "      <td>66</td>\n",
       "      <td>19</td>\n",
       "      <td>75</td>\n",
       "      <td>70</td>\n",
       "      <td>2</td>\n",
       "    </tr>\n",
       "  </tbody>\n",
       "</table>\n",
       "</div>"
      ],
      "text/plain": [
       "   work_year experience_level employment_type                 job_title  \\\n",
       "0       2023               SE              FT  Principal Data Scientist   \n",
       "1       2023               MI              CT               ML Engineer   \n",
       "\n",
       "   salary salary_currency  salary_in_usd employee_residence  remote_ratio  \\\n",
       "0   80000             EUR        85847.0                 ES         100.0   \n",
       "1   30000             USD        30000.0                 US         100.0   \n",
       "\n",
       "  company_location company_size  en_experience_level  en_employment_type  \\\n",
       "0               ES            L                    3                   2   \n",
       "1               US            S                    2                   0   \n",
       "\n",
       "   en_job_title  en_salary_currency  en_employee_residence  \\\n",
       "0            84                   7                     26   \n",
       "1            66                  19                     75   \n",
       "\n",
       "   en_company_location  en_comapny_size  \n",
       "0                   25                0  \n",
       "1                   70                2  "
      ]
     },
     "execution_count": 111,
     "metadata": {},
     "output_type": "execute_result"
    }
   ],
   "source": [
    "df.head(2)"
   ]
  },
  {
   "cell_type": "code",
   "execution_count": 112,
   "id": "578e8588-ad76-48cc-9448-8bc00ca8cb9f",
   "metadata": {},
   "outputs": [],
   "source": [
    "df.drop(columns=['experience_level', 'employment_type', 'job_title', 'salary_currency',\n",
    "       'employee_residence', 'company_location', 'company_size'],inplace=True)"
   ]
  },
  {
   "cell_type": "code",
   "execution_count": 113,
   "id": "9ef3c181-5acd-455f-80de-725dffb53b9a",
   "metadata": {},
   "outputs": [
    {
     "data": {
      "text/html": [
       "<div>\n",
       "<style scoped>\n",
       "    .dataframe tbody tr th:only-of-type {\n",
       "        vertical-align: middle;\n",
       "    }\n",
       "\n",
       "    .dataframe tbody tr th {\n",
       "        vertical-align: top;\n",
       "    }\n",
       "\n",
       "    .dataframe thead th {\n",
       "        text-align: right;\n",
       "    }\n",
       "</style>\n",
       "<table border=\"1\" class=\"dataframe\">\n",
       "  <thead>\n",
       "    <tr style=\"text-align: right;\">\n",
       "      <th></th>\n",
       "      <th>work_year</th>\n",
       "      <th>salary</th>\n",
       "      <th>salary_in_usd</th>\n",
       "      <th>remote_ratio</th>\n",
       "      <th>en_experience_level</th>\n",
       "      <th>en_employment_type</th>\n",
       "      <th>en_job_title</th>\n",
       "      <th>en_salary_currency</th>\n",
       "      <th>en_employee_residence</th>\n",
       "      <th>en_company_location</th>\n",
       "      <th>en_comapny_size</th>\n",
       "    </tr>\n",
       "  </thead>\n",
       "  <tbody>\n",
       "    <tr>\n",
       "      <th>0</th>\n",
       "      <td>2023</td>\n",
       "      <td>80000</td>\n",
       "      <td>85847.0</td>\n",
       "      <td>100.0</td>\n",
       "      <td>3</td>\n",
       "      <td>2</td>\n",
       "      <td>84</td>\n",
       "      <td>7</td>\n",
       "      <td>26</td>\n",
       "      <td>25</td>\n",
       "      <td>0</td>\n",
       "    </tr>\n",
       "    <tr>\n",
       "      <th>1</th>\n",
       "      <td>2023</td>\n",
       "      <td>30000</td>\n",
       "      <td>30000.0</td>\n",
       "      <td>100.0</td>\n",
       "      <td>2</td>\n",
       "      <td>0</td>\n",
       "      <td>66</td>\n",
       "      <td>19</td>\n",
       "      <td>75</td>\n",
       "      <td>70</td>\n",
       "      <td>2</td>\n",
       "    </tr>\n",
       "    <tr>\n",
       "      <th>2</th>\n",
       "      <td>2023</td>\n",
       "      <td>25500</td>\n",
       "      <td>25500.0</td>\n",
       "      <td>100.0</td>\n",
       "      <td>2</td>\n",
       "      <td>0</td>\n",
       "      <td>66</td>\n",
       "      <td>19</td>\n",
       "      <td>75</td>\n",
       "      <td>70</td>\n",
       "      <td>2</td>\n",
       "    </tr>\n",
       "    <tr>\n",
       "      <th>3</th>\n",
       "      <td>2023</td>\n",
       "      <td>175000</td>\n",
       "      <td>175000.0</td>\n",
       "      <td>100.0</td>\n",
       "      <td>3</td>\n",
       "      <td>2</td>\n",
       "      <td>47</td>\n",
       "      <td>19</td>\n",
       "      <td>11</td>\n",
       "      <td>12</td>\n",
       "      <td>1</td>\n",
       "    </tr>\n",
       "    <tr>\n",
       "      <th>4</th>\n",
       "      <td>2023</td>\n",
       "      <td>120000</td>\n",
       "      <td>120000.0</td>\n",
       "      <td>100.0</td>\n",
       "      <td>3</td>\n",
       "      <td>2</td>\n",
       "      <td>47</td>\n",
       "      <td>19</td>\n",
       "      <td>11</td>\n",
       "      <td>12</td>\n",
       "      <td>1</td>\n",
       "    </tr>\n",
       "    <tr>\n",
       "      <th>...</th>\n",
       "      <td>...</td>\n",
       "      <td>...</td>\n",
       "      <td>...</td>\n",
       "      <td>...</td>\n",
       "      <td>...</td>\n",
       "      <td>...</td>\n",
       "      <td>...</td>\n",
       "      <td>...</td>\n",
       "      <td>...</td>\n",
       "      <td>...</td>\n",
       "      <td>...</td>\n",
       "    </tr>\n",
       "    <tr>\n",
       "      <th>3750</th>\n",
       "      <td>2020</td>\n",
       "      <td>412000</td>\n",
       "      <td>295000.0</td>\n",
       "      <td>100.0</td>\n",
       "      <td>3</td>\n",
       "      <td>2</td>\n",
       "      <td>47</td>\n",
       "      <td>19</td>\n",
       "      <td>75</td>\n",
       "      <td>70</td>\n",
       "      <td>0</td>\n",
       "    </tr>\n",
       "    <tr>\n",
       "      <th>3751</th>\n",
       "      <td>2021</td>\n",
       "      <td>151000</td>\n",
       "      <td>151000.0</td>\n",
       "      <td>100.0</td>\n",
       "      <td>2</td>\n",
       "      <td>2</td>\n",
       "      <td>84</td>\n",
       "      <td>19</td>\n",
       "      <td>75</td>\n",
       "      <td>70</td>\n",
       "      <td>0</td>\n",
       "    </tr>\n",
       "    <tr>\n",
       "      <th>3752</th>\n",
       "      <td>2020</td>\n",
       "      <td>105000</td>\n",
       "      <td>105000.0</td>\n",
       "      <td>100.0</td>\n",
       "      <td>0</td>\n",
       "      <td>2</td>\n",
       "      <td>47</td>\n",
       "      <td>19</td>\n",
       "      <td>75</td>\n",
       "      <td>70</td>\n",
       "      <td>2</td>\n",
       "    </tr>\n",
       "    <tr>\n",
       "      <th>3753</th>\n",
       "      <td>2020</td>\n",
       "      <td>100000</td>\n",
       "      <td>100000.0</td>\n",
       "      <td>100.0</td>\n",
       "      <td>0</td>\n",
       "      <td>0</td>\n",
       "      <td>17</td>\n",
       "      <td>19</td>\n",
       "      <td>75</td>\n",
       "      <td>70</td>\n",
       "      <td>0</td>\n",
       "    </tr>\n",
       "    <tr>\n",
       "      <th>3754</th>\n",
       "      <td>2021</td>\n",
       "      <td>7000000</td>\n",
       "      <td>94665.0</td>\n",
       "      <td>50.0</td>\n",
       "      <td>3</td>\n",
       "      <td>2</td>\n",
       "      <td>45</td>\n",
       "      <td>12</td>\n",
       "      <td>39</td>\n",
       "      <td>38</td>\n",
       "      <td>0</td>\n",
       "    </tr>\n",
       "  </tbody>\n",
       "</table>\n",
       "<p>3755 rows × 11 columns</p>\n",
       "</div>"
      ],
      "text/plain": [
       "      work_year   salary  salary_in_usd  remote_ratio  en_experience_level  \\\n",
       "0          2023    80000        85847.0         100.0                    3   \n",
       "1          2023    30000        30000.0         100.0                    2   \n",
       "2          2023    25500        25500.0         100.0                    2   \n",
       "3          2023   175000       175000.0         100.0                    3   \n",
       "4          2023   120000       120000.0         100.0                    3   \n",
       "...         ...      ...            ...           ...                  ...   \n",
       "3750       2020   412000       295000.0         100.0                    3   \n",
       "3751       2021   151000       151000.0         100.0                    2   \n",
       "3752       2020   105000       105000.0         100.0                    0   \n",
       "3753       2020   100000       100000.0         100.0                    0   \n",
       "3754       2021  7000000        94665.0          50.0                    3   \n",
       "\n",
       "      en_employment_type  en_job_title  en_salary_currency  \\\n",
       "0                      2            84                   7   \n",
       "1                      0            66                  19   \n",
       "2                      0            66                  19   \n",
       "3                      2            47                  19   \n",
       "4                      2            47                  19   \n",
       "...                  ...           ...                 ...   \n",
       "3750                   2            47                  19   \n",
       "3751                   2            84                  19   \n",
       "3752                   2            47                  19   \n",
       "3753                   0            17                  19   \n",
       "3754                   2            45                  12   \n",
       "\n",
       "      en_employee_residence  en_company_location  en_comapny_size  \n",
       "0                        26                   25                0  \n",
       "1                        75                   70                2  \n",
       "2                        75                   70                2  \n",
       "3                        11                   12                1  \n",
       "4                        11                   12                1  \n",
       "...                     ...                  ...              ...  \n",
       "3750                     75                   70                0  \n",
       "3751                     75                   70                0  \n",
       "3752                     75                   70                2  \n",
       "3753                     75                   70                0  \n",
       "3754                     39                   38                0  \n",
       "\n",
       "[3755 rows x 11 columns]"
      ]
     },
     "execution_count": 113,
     "metadata": {},
     "output_type": "execute_result"
    }
   ],
   "source": [
    "df"
   ]
  },
  {
   "cell_type": "code",
   "execution_count": 114,
   "id": "bb9ff046-ad78-4f9c-b847-3df216ad8803",
   "metadata": {},
   "outputs": [],
   "source": [
    "## Hence our dataset encoded properly"
   ]
  },
  {
   "cell_type": "raw",
   "id": "70fe80e2-5404-4761-a126-6a74eb459719",
   "metadata": {},
   "source": [
    "<--------Step7: Again remove outliers after encoding of catogorical data ----------->"
   ]
  },
  {
   "cell_type": "code",
   "execution_count": 115,
   "id": "1a0b25a8-4360-4252-a566-2d16de856b0c",
   "metadata": {},
   "outputs": [
    {
     "data": {
      "image/png": "[encoded data removed]",
      "text/plain": [
       "<Figure size 640x480 with 1 Axes>"
      ]
     },
     "metadata": {},
     "output_type": "display_data"
    },
    {
     "data": {
      "text/plain": [
       "<Figure size 10x10 with 0 Axes>"
      ]
     },
     "metadata": {},
     "output_type": "display_data"
    },
    {
     "data": {
      "image/png": "[encoded data removed]",
      "text/plain": [
       "<Figure size 640x480 with 1 Axes>"
      ]
     },
     "metadata": {},
     "output_type": "display_data"
    },
    {
     "data": {
      "text/plain": [
       "<Figure size 10x10 with 0 Axes>"
      ]
     },
     "metadata": {},
     "output_type": "display_data"
    },
    {
     "data": {
      "image/png": "[encoded data removed]",
      "text/plain": [
       "<Figure size 640x480 with 1 Axes>"
      ]
     },
     "metadata": {},
     "output_type": "display_data"
    },
    {
     "data": {
      "text/plain": [
       "<Figure size 10x10 with 0 Axes>"
      ]
     },
     "metadata": {},
     "output_type": "display_data"
    },
    {
     "data": {
      "image/png": "[encoded data removed]",
      "text/plain": [
       "<Figure size 640x480 with 1 Axes>"
      ]
     },
     "metadata": {},
     "output_type": "display_data"
    },
    {
     "data": {
      "text/plain": [
       "<Figure size 10x10 with 0 Axes>"
      ]
     },
     "metadata": {},
     "output_type": "display_data"
    },
    {
     "data": {
      "image/png": "[encoded data removed]",
      "text/plain": [
       "<Figure size 640x480 with 1 Axes>"
      ]
     },
     "metadata": {},
     "output_type": "display_data"
    },
    {
     "data": {
      "text/plain": [
       "<Figure size 10x10 with 0 Axes>"
      ]
     },
     "metadata": {},
     "output_type": "display_data"
    },
    {
     "data": {
      "image/png": "[encoded data removed]",
      "text/plain": [
       "<Figure size 640x480 with 1 Axes>"
      ]
     },
     "metadata": {},
     "output_type": "display_data"
    },
    {
     "data": {
      "text/plain": [
       "<Figure size 10x10 with 0 Axes>"
      ]
     },
     "metadata": {},
     "output_type": "display_data"
    },
    {
     "data": {
      "image/png": "[encoded data removed]",
      "text/plain": [
       "<Figure size 640x480 with 1 Axes>"
      ]
     },
     "metadata": {},
     "output_type": "display_data"
    },
    {
     "data": {
      "text/plain": [
       "<Figure size 10x10 with 0 Axes>"
      ]
     },
     "metadata": {},
     "output_type": "display_data"
    },
    {
     "data": {
      "image/png": "[encoded data removed]",
      "text/plain": [
       "<Figure size 640x480 with 1 Axes>"
      ]
     },
     "metadata": {},
     "output_type": "display_data"
    },
    {
     "data": {
      "text/plain": [
       "<Figure size 10x10 with 0 Axes>"
      ]
     },
     "metadata": {},
     "output_type": "display_data"
    },
    {
     "data": {
      "image/png": "[encoded data removed]",
      "text/plain": [
       "<Figure size 640x480 with 1 Axes>"
      ]
     },
     "metadata": {},
     "output_type": "display_data"
    },
    {
     "data": {
      "text/plain": [
       "<Figure size 10x10 with 0 Axes>"
      ]
     },
     "metadata": {},
     "output_type": "display_data"
    }
   ],
   "source": [
    "import warnings\n",
    "warnings.filterwarnings(\"ignore\")\n",
    "for i in df.select_dtypes(include=\"int\").columns:\n",
    "    sns.boxplot(data=df,x=i)\n",
    "    plt.figure(figsize=(0.1,0.1))\n",
    "    plt.show()"
   ]
  },
  {
   "cell_type": "code",
   "execution_count": 116,
   "id": "95f929d9-1fee-4794-93ff-26abe85df8cb",
   "metadata": {},
   "outputs": [],
   "source": [
    "def wisker(col):\n",
    "    q1,q3=np.percentile(col,[25,75])\n",
    "    iqr=q3-q1\n",
    "    lw=q1-1.5*iqr\n",
    "    uw=q3+1.5*iqr\n",
    "    return lw,uw"
   ]
  },
  {
   "cell_type": "code",
   "execution_count": 117,
   "id": "d2fdd029-f4cf-4ffa-83b3-19e6586d76af",
   "metadata": {},
   "outputs": [],
   "source": [
    "for i in ['en_job_title','en_company_location','en_salary_currency']:\n",
    "    lw,uw=wisker(df[i])\n",
    "    df[i]=np.where(df[i]<lw,lw,df[i])\n",
    "    df[i]=np.where(df[i]>uw,uw,df[i])"
   ]
  },
  {
   "cell_type": "code",
   "execution_count": 118,
   "id": "0da411e5-58ad-4745-b8a8-5ef34b10c00f",
   "metadata": {
    "scrolled": true
   },
   "outputs": [
    {
     "data": {
      "image/png": "[encoded data removed]",
      "text/plain": [
       "<Figure size 640x480 with 1 Axes>"
      ]
     },
     "metadata": {},
     "output_type": "display_data"
    },
    {
     "data": {
      "image/png": "[encoded data removed]",
      "text/plain": [
       "<Figure size 640x480 with 1 Axes>"
      ]
     },
     "metadata": {},
     "output_type": "display_data"
    },
    {
     "data": {
      "image/png": "[encoded data removed]",
      "text/plain": [
       "<Figure size 640x480 with 1 Axes>"
      ]
     },
     "metadata": {},
     "output_type": "display_data"
    }
   ],
   "source": [
    "for i in ['en_job_title','en_company_location','en_salary_currency']:\n",
    "    sns.boxplot(df[i])\n",
    "    plt.show()"
   ]
  },
  {
   "cell_type": "code",
   "execution_count": 119,
   "id": "df844d82-4414-4ada-b784-6ba9669fc3b3",
   "metadata": {},
   "outputs": [
    {
     "data": {
      "text/html": [
       "<div>\n",
       "<style scoped>\n",
       "    .dataframe tbody tr th:only-of-type {\n",
       "        vertical-align: middle;\n",
       "    }\n",
       "\n",
       "    .dataframe tbody tr th {\n",
       "        vertical-align: top;\n",
       "    }\n",
       "\n",
       "    .dataframe thead th {\n",
       "        text-align: right;\n",
       "    }\n",
       "</style>\n",
       "<table border=\"1\" class=\"dataframe\">\n",
       "  <thead>\n",
       "    <tr style=\"text-align: right;\">\n",
       "      <th></th>\n",
       "      <th>work_year</th>\n",
       "      <th>salary</th>\n",
       "      <th>salary_in_usd</th>\n",
       "      <th>remote_ratio</th>\n",
       "      <th>en_experience_level</th>\n",
       "      <th>en_employment_type</th>\n",
       "      <th>en_job_title</th>\n",
       "      <th>en_salary_currency</th>\n",
       "      <th>en_company_location</th>\n",
       "      <th>en_comapny_size</th>\n",
       "    </tr>\n",
       "  </thead>\n",
       "  <tbody>\n",
       "    <tr>\n",
       "      <th>0</th>\n",
       "      <td>2023</td>\n",
       "      <td>80000</td>\n",
       "      <td>85847.0</td>\n",
       "      <td>100.0</td>\n",
       "      <td>3</td>\n",
       "      <td>2</td>\n",
       "      <td>77.0</td>\n",
       "      <td>19.0</td>\n",
       "      <td>70.0</td>\n",
       "      <td>0</td>\n",
       "    </tr>\n",
       "    <tr>\n",
       "      <th>1</th>\n",
       "      <td>2023</td>\n",
       "      <td>30000</td>\n",
       "      <td>30000.0</td>\n",
       "      <td>100.0</td>\n",
       "      <td>2</td>\n",
       "      <td>0</td>\n",
       "      <td>66.0</td>\n",
       "      <td>19.0</td>\n",
       "      <td>70.0</td>\n",
       "      <td>2</td>\n",
       "    </tr>\n",
       "    <tr>\n",
       "      <th>2</th>\n",
       "      <td>2023</td>\n",
       "      <td>25500</td>\n",
       "      <td>25500.0</td>\n",
       "      <td>100.0</td>\n",
       "      <td>2</td>\n",
       "      <td>0</td>\n",
       "      <td>66.0</td>\n",
       "      <td>19.0</td>\n",
       "      <td>70.0</td>\n",
       "      <td>2</td>\n",
       "    </tr>\n",
       "    <tr>\n",
       "      <th>3</th>\n",
       "      <td>2023</td>\n",
       "      <td>175000</td>\n",
       "      <td>175000.0</td>\n",
       "      <td>100.0</td>\n",
       "      <td>3</td>\n",
       "      <td>2</td>\n",
       "      <td>47.0</td>\n",
       "      <td>19.0</td>\n",
       "      <td>70.0</td>\n",
       "      <td>1</td>\n",
       "    </tr>\n",
       "    <tr>\n",
       "      <th>4</th>\n",
       "      <td>2023</td>\n",
       "      <td>120000</td>\n",
       "      <td>120000.0</td>\n",
       "      <td>100.0</td>\n",
       "      <td>3</td>\n",
       "      <td>2</td>\n",
       "      <td>47.0</td>\n",
       "      <td>19.0</td>\n",
       "      <td>70.0</td>\n",
       "      <td>1</td>\n",
       "    </tr>\n",
       "    <tr>\n",
       "      <th>...</th>\n",
       "      <td>...</td>\n",
       "      <td>...</td>\n",
       "      <td>...</td>\n",
       "      <td>...</td>\n",
       "      <td>...</td>\n",
       "      <td>...</td>\n",
       "      <td>...</td>\n",
       "      <td>...</td>\n",
       "      <td>...</td>\n",
       "      <td>...</td>\n",
       "    </tr>\n",
       "    <tr>\n",
       "      <th>3750</th>\n",
       "      <td>2020</td>\n",
       "      <td>412000</td>\n",
       "      <td>295000.0</td>\n",
       "      <td>100.0</td>\n",
       "      <td>3</td>\n",
       "      <td>2</td>\n",
       "      <td>47.0</td>\n",
       "      <td>19.0</td>\n",
       "      <td>70.0</td>\n",
       "      <td>0</td>\n",
       "    </tr>\n",
       "    <tr>\n",
       "      <th>3751</th>\n",
       "      <td>2021</td>\n",
       "      <td>151000</td>\n",
       "      <td>151000.0</td>\n",
       "      <td>100.0</td>\n",
       "      <td>2</td>\n",
       "      <td>2</td>\n",
       "      <td>77.0</td>\n",
       "      <td>19.0</td>\n",
       "      <td>70.0</td>\n",
       "      <td>0</td>\n",
       "    </tr>\n",
       "    <tr>\n",
       "      <th>3752</th>\n",
       "      <td>2020</td>\n",
       "      <td>105000</td>\n",
       "      <td>105000.0</td>\n",
       "      <td>100.0</td>\n",
       "      <td>0</td>\n",
       "      <td>2</td>\n",
       "      <td>47.0</td>\n",
       "      <td>19.0</td>\n",
       "      <td>70.0</td>\n",
       "      <td>2</td>\n",
       "    </tr>\n",
       "    <tr>\n",
       "      <th>3753</th>\n",
       "      <td>2020</td>\n",
       "      <td>100000</td>\n",
       "      <td>100000.0</td>\n",
       "      <td>100.0</td>\n",
       "      <td>0</td>\n",
       "      <td>0</td>\n",
       "      <td>17.0</td>\n",
       "      <td>19.0</td>\n",
       "      <td>70.0</td>\n",
       "      <td>0</td>\n",
       "    </tr>\n",
       "    <tr>\n",
       "      <th>3754</th>\n",
       "      <td>2021</td>\n",
       "      <td>7000000</td>\n",
       "      <td>94665.0</td>\n",
       "      <td>50.0</td>\n",
       "      <td>3</td>\n",
       "      <td>2</td>\n",
       "      <td>45.0</td>\n",
       "      <td>19.0</td>\n",
       "      <td>70.0</td>\n",
       "      <td>0</td>\n",
       "    </tr>\n",
       "  </tbody>\n",
       "</table>\n",
       "<p>3755 rows × 10 columns</p>\n",
       "</div>"
      ],
      "text/plain": [
       "      work_year   salary  salary_in_usd  remote_ratio  en_experience_level  \\\n",
       "0          2023    80000        85847.0         100.0                    3   \n",
       "1          2023    30000        30000.0         100.0                    2   \n",
       "2          2023    25500        25500.0         100.0                    2   \n",
       "3          2023   175000       175000.0         100.0                    3   \n",
       "4          2023   120000       120000.0         100.0                    3   \n",
       "...         ...      ...            ...           ...                  ...   \n",
       "3750       2020   412000       295000.0         100.0                    3   \n",
       "3751       2021   151000       151000.0         100.0                    2   \n",
       "3752       2020   105000       105000.0         100.0                    0   \n",
       "3753       2020   100000       100000.0         100.0                    0   \n",
       "3754       2021  7000000        94665.0          50.0                    3   \n",
       "\n",
       "      en_employment_type  en_job_title  en_salary_currency  \\\n",
       "0                      2          77.0                19.0   \n",
       "1                      0          66.0                19.0   \n",
       "2                      0          66.0                19.0   \n",
       "3                      2          47.0                19.0   \n",
       "4                      2          47.0                19.0   \n",
       "...                  ...           ...                 ...   \n",
       "3750                   2          47.0                19.0   \n",
       "3751                   2          77.0                19.0   \n",
       "3752                   2          47.0                19.0   \n",
       "3753                   0          17.0                19.0   \n",
       "3754                   2          45.0                19.0   \n",
       "\n",
       "      en_company_location  en_comapny_size  \n",
       "0                    70.0                0  \n",
       "1                    70.0                2  \n",
       "2                    70.0                2  \n",
       "3                    70.0                1  \n",
       "4                    70.0                1  \n",
       "...                   ...              ...  \n",
       "3750                 70.0                0  \n",
       "3751                 70.0                0  \n",
       "3752                 70.0                2  \n",
       "3753                 70.0                0  \n",
       "3754                 70.0                0  \n",
       "\n",
       "[3755 rows x 10 columns]"
      ]
     },
     "execution_count": 119,
     "metadata": {},
     "output_type": "execute_result"
    }
   ],
   "source": [
    "df.drop(columns='en_employee_residence')"
   ]
  },
  {
   "cell_type": "raw",
   "id": "1f27eb78-87c0-498f-9f46-2a32bb489d85",
   "metadata": {},
   "source": [
    "<-------Step7: Normalisation----------->"
   ]
  },
  {
   "cell_type": "code",
   "execution_count": 120,
   "id": "c5860a40-5cc0-4eb7-8c45-b016170bced8",
   "metadata": {},
   "outputs": [],
   "source": [
    "from sklearn.preprocessing import StandardScaler"
   ]
  },
  {
   "cell_type": "code",
   "execution_count": 121,
   "id": "516d8739-527c-4fa9-8a91-183cb5c40327",
   "metadata": {},
   "outputs": [],
   "source": [
    "ss=StandardScaler()"
   ]
  },
  {
   "cell_type": "code",
   "execution_count": 142,
   "id": "a2d1f621-2334-41cb-9d69-1bca2ee912e1",
   "metadata": {},
   "outputs": [
    {
     "data": {
      "text/html": [
       "<style>#sk-container-id-8 {color: black;background-color: white;}#sk-container-id-8 pre{padding: 0;}#sk-container-id-8 div.sk-toggleable {background-color: white;}#sk-container-id-8 label.sk-toggleable__label {cursor: pointer;display: block;width: 100%;margin-bottom: 0;padding: 0.3em;box-sizing: border-box;text-align: center;}#sk-container-id-8 label.sk-toggleable__label-arrow:before {content: \"▸\";float: left;margin-right: 0.25em;color: #696969;}#sk-container-id-8 label.sk-toggleable__label-arrow:hover:before {color: black;}#sk-container-id-8 div.sk-estimator:hover label.sk-toggleable__label-arrow:before {color: black;}#sk-container-id-8 div.sk-toggleable__content {max-height: 0;max-width: 0;overflow: hidden;text-align: left;background-color: #f0f8ff;}#sk-container-id-8 div.sk-toggleable__content pre {margin: 0.2em;color: black;border-radius: 0.25em;background-color: #f0f8ff;}#sk-container-id-8 input.sk-toggleable__control:checked~div.sk-toggleable__content {max-height: 200px;max-width: 100%;overflow: auto;}#sk-container-id-8 input.sk-toggleable__control:checked~label.sk-toggleable__label-arrow:before {content: \"▾\";}#sk-container-id-8 div.sk-estimator input.sk-toggleable__control:checked~label.sk-toggleable__label {background-color: #d4ebff;}#sk-container-id-8 div.sk-label input.sk-toggleable__control:checked~label.sk-toggleable__label {background-color: #d4ebff;}#sk-container-id-8 input.sk-hidden--visually {border: 0;clip: rect(1px 1px 1px 1px);clip: rect(1px, 1px, 1px, 1px);height: 1px;margin: -1px;overflow: hidden;padding: 0;position: absolute;width: 1px;}#sk-container-id-8 div.sk-estimator {font-family: monospace;background-color: #f0f8ff;border: 1px dotted black;border-radius: 0.25em;box-sizing: border-box;margin-bottom: 0.5em;}#sk-container-id-8 div.sk-estimator:hover {background-color: #d4ebff;}#sk-container-id-8 div.sk-parallel-item::after {content: \"\";width: 100%;border-bottom: 1px solid gray;flex-grow: 1;}#sk-container-id-8 div.sk-label:hover label.sk-toggleable__label {background-color: #d4ebff;}#sk-container-id-8 div.sk-serial::before {content: \"\";position: absolute;border-left: 1px solid gray;box-sizing: border-box;top: 0;bottom: 0;left: 50%;z-index: 0;}#sk-container-id-8 div.sk-serial {display: flex;flex-direction: column;align-items: center;background-color: white;padding-right: 0.2em;padding-left: 0.2em;position: relative;}#sk-container-id-8 div.sk-item {position: relative;z-index: 1;}#sk-container-id-8 div.sk-parallel {display: flex;align-items: stretch;justify-content: center;background-color: white;position: relative;}#sk-container-id-8 div.sk-item::before, #sk-container-id-8 div.sk-parallel-item::before {content: \"\";position: absolute;border-left: 1px solid gray;box-sizing: border-box;top: 0;bottom: 0;left: 50%;z-index: -1;}#sk-container-id-8 div.sk-parallel-item {display: flex;flex-direction: column;z-index: 1;position: relative;background-color: white;}#sk-container-id-8 div.sk-parallel-item:first-child::after {align-self: flex-end;width: 50%;}#sk-container-id-8 div.sk-parallel-item:last-child::after {align-self: flex-start;width: 50%;}#sk-container-id-8 div.sk-parallel-item:only-child::after {width: 0;}#sk-container-id-8 div.sk-dashed-wrapped {border: 1px dashed gray;margin: 0 0.4em 0.5em 0.4em;box-sizing: border-box;padding-bottom: 0.4em;background-color: white;}#sk-container-id-8 div.sk-label label {font-family: monospace;font-weight: bold;display: inline-block;line-height: 1.2em;}#sk-container-id-8 div.sk-label-container {text-align: center;}#sk-container-id-8 div.sk-container {/* jupyter's `normalize.less` sets `[hidden] { display: none; }` but bootstrap.min.css set `[hidden] { display: none !important; }` so we also need the `!important` here to be able to override the default hidden behavior on the sphinx rendered scikit-learn.org. See: https://github.com/scikit-learn/scikit-learn/issues/21755 */display: inline-block !important;position: relative;}#sk-container-id-8 div.sk-text-repr-fallback {display: none;}</style><div id=\"sk-container-id-8\" class=\"sk-top-container\"><div class=\"sk-text-repr-fallback\"><pre>StandardScaler()</pre><b>In a Jupyter environment, please rerun this cell to show the HTML representation or trust the notebook. <br />On GitHub, the HTML representation is unable to render, please try loading this page with nbviewer.org.</b></div><div class=\"sk-container\" hidden><div class=\"sk-item\"><div class=\"sk-estimator sk-toggleable\"><input class=\"sk-toggleable__control sk-hidden--visually\" id=\"sk-estimator-id-8\" type=\"checkbox\" checked><label for=\"sk-estimator-id-8\" class=\"sk-toggleable__label sk-toggleable__label-arrow\">StandardScaler</label><div class=\"sk-toggleable__content\"><pre>StandardScaler()</pre></div></div></div></div></div>"
      ],
      "text/plain": [
       "StandardScaler()"
      ]
     },
     "execution_count": 142,
     "metadata": {},
     "output_type": "execute_result"
    }
   ],
   "source": [
    "ss.fit(df[['salary']])"
   ]
  },
  {
   "cell_type": "code",
   "execution_count": 143,
   "id": "47c1151b-5a72-400a-ad6e-83e80ddb1d6a",
   "metadata": {},
   "outputs": [
    {
     "data": {
      "text/html": [
       "<div>\n",
       "<style scoped>\n",
       "    .dataframe tbody tr th:only-of-type {\n",
       "        vertical-align: middle;\n",
       "    }\n",
       "\n",
       "    .dataframe tbody tr th {\n",
       "        vertical-align: top;\n",
       "    }\n",
       "\n",
       "    .dataframe thead th {\n",
       "        text-align: right;\n",
       "    }\n",
       "</style>\n",
       "<table border=\"1\" class=\"dataframe\">\n",
       "  <thead>\n",
       "    <tr style=\"text-align: right;\">\n",
       "      <th></th>\n",
       "      <th>work_year</th>\n",
       "      <th>salary</th>\n",
       "      <th>salary_in_usd</th>\n",
       "      <th>remote_ratio</th>\n",
       "      <th>en_experience_level</th>\n",
       "      <th>en_employment_type</th>\n",
       "      <th>en_job_title</th>\n",
       "      <th>en_salary_currency</th>\n",
       "      <th>en_employee_residence</th>\n",
       "      <th>en_company_location</th>\n",
       "      <th>en_comapny_size</th>\n",
       "      <th>salary_in_usd_ss</th>\n",
       "      <th>salary_ss</th>\n",
       "    </tr>\n",
       "  </thead>\n",
       "  <tbody>\n",
       "    <tr>\n",
       "      <th>0</th>\n",
       "      <td>2023</td>\n",
       "      <td>80000</td>\n",
       "      <td>85847.0</td>\n",
       "      <td>100.0</td>\n",
       "      <td>3</td>\n",
       "      <td>2</td>\n",
       "      <td>77.0</td>\n",
       "      <td>19.0</td>\n",
       "      <td>26</td>\n",
       "      <td>70.0</td>\n",
       "      <td>0</td>\n",
       "      <td>-0.836680</td>\n",
       "      <td>-0.164827</td>\n",
       "    </tr>\n",
       "    <tr>\n",
       "      <th>1</th>\n",
       "      <td>2023</td>\n",
       "      <td>30000</td>\n",
       "      <td>30000.0</td>\n",
       "      <td>100.0</td>\n",
       "      <td>2</td>\n",
       "      <td>0</td>\n",
       "      <td>66.0</td>\n",
       "      <td>19.0</td>\n",
       "      <td>75</td>\n",
       "      <td>70.0</td>\n",
       "      <td>2</td>\n",
       "      <td>-1.750856</td>\n",
       "      <td>-0.239277</td>\n",
       "    </tr>\n",
       "    <tr>\n",
       "      <th>2</th>\n",
       "      <td>2023</td>\n",
       "      <td>25500</td>\n",
       "      <td>25500.0</td>\n",
       "      <td>100.0</td>\n",
       "      <td>2</td>\n",
       "      <td>0</td>\n",
       "      <td>66.0</td>\n",
       "      <td>19.0</td>\n",
       "      <td>75</td>\n",
       "      <td>70.0</td>\n",
       "      <td>2</td>\n",
       "      <td>-1.824518</td>\n",
       "      <td>-0.245978</td>\n",
       "    </tr>\n",
       "    <tr>\n",
       "      <th>3</th>\n",
       "      <td>2023</td>\n",
       "      <td>175000</td>\n",
       "      <td>175000.0</td>\n",
       "      <td>100.0</td>\n",
       "      <td>3</td>\n",
       "      <td>2</td>\n",
       "      <td>47.0</td>\n",
       "      <td>19.0</td>\n",
       "      <td>11</td>\n",
       "      <td>70.0</td>\n",
       "      <td>1</td>\n",
       "      <td>0.622692</td>\n",
       "      <td>-0.023371</td>\n",
       "    </tr>\n",
       "    <tr>\n",
       "      <th>4</th>\n",
       "      <td>2023</td>\n",
       "      <td>120000</td>\n",
       "      <td>120000.0</td>\n",
       "      <td>100.0</td>\n",
       "      <td>3</td>\n",
       "      <td>2</td>\n",
       "      <td>47.0</td>\n",
       "      <td>19.0</td>\n",
       "      <td>11</td>\n",
       "      <td>70.0</td>\n",
       "      <td>1</td>\n",
       "      <td>-0.277620</td>\n",
       "      <td>-0.105266</td>\n",
       "    </tr>\n",
       "  </tbody>\n",
       "</table>\n",
       "</div>"
      ],
      "text/plain": [
       "   work_year  salary  salary_in_usd  remote_ratio  en_experience_level  \\\n",
       "0       2023   80000        85847.0         100.0                    3   \n",
       "1       2023   30000        30000.0         100.0                    2   \n",
       "2       2023   25500        25500.0         100.0                    2   \n",
       "3       2023  175000       175000.0         100.0                    3   \n",
       "4       2023  120000       120000.0         100.0                    3   \n",
       "\n",
       "   en_employment_type  en_job_title  en_salary_currency  \\\n",
       "0                   2          77.0                19.0   \n",
       "1                   0          66.0                19.0   \n",
       "2                   0          66.0                19.0   \n",
       "3                   2          47.0                19.0   \n",
       "4                   2          47.0                19.0   \n",
       "\n",
       "   en_employee_residence  en_company_location  en_comapny_size  \\\n",
       "0                     26                 70.0                0   \n",
       "1                     75                 70.0                2   \n",
       "2                     75                 70.0                2   \n",
       "3                     11                 70.0                1   \n",
       "4                     11                 70.0                1   \n",
       "\n",
       "   salary_in_usd_ss  salary_ss  \n",
       "0         -0.836680  -0.164827  \n",
       "1         -1.750856  -0.239277  \n",
       "2         -1.824518  -0.245978  \n",
       "3          0.622692  -0.023371  \n",
       "4         -0.277620  -0.105266  "
      ]
     },
     "execution_count": 143,
     "metadata": {},
     "output_type": "execute_result"
    }
   ],
   "source": [
    "df['salary_ss']=pd.DataFrame(ss.transform(df[['salary']]),columns=['x'])\n",
    "df.head()"
   ]
  },
  {
   "cell_type": "code",
   "execution_count": 144,
   "id": "f6e40cdc-386c-46c0-9a2b-f1756cce49dc",
   "metadata": {},
   "outputs": [
    {
     "data": {
      "text/html": [
       "<div>\n",
       "<style scoped>\n",
       "    .dataframe tbody tr th:only-of-type {\n",
       "        vertical-align: middle;\n",
       "    }\n",
       "\n",
       "    .dataframe tbody tr th {\n",
       "        vertical-align: top;\n",
       "    }\n",
       "\n",
       "    .dataframe thead th {\n",
       "        text-align: right;\n",
       "    }\n",
       "</style>\n",
       "<table border=\"1\" class=\"dataframe\">\n",
       "  <thead>\n",
       "    <tr style=\"text-align: right;\">\n",
       "      <th></th>\n",
       "      <th>work_year</th>\n",
       "      <th>remote_ratio</th>\n",
       "      <th>en_experience_level</th>\n",
       "      <th>en_employment_type</th>\n",
       "      <th>en_job_title</th>\n",
       "      <th>en_salary_currency</th>\n",
       "      <th>en_employee_residence</th>\n",
       "      <th>en_company_location</th>\n",
       "      <th>en_comapny_size</th>\n",
       "      <th>salary_in_usd_ss</th>\n",
       "      <th>salary_ss</th>\n",
       "    </tr>\n",
       "  </thead>\n",
       "  <tbody>\n",
       "    <tr>\n",
       "      <th>0</th>\n",
       "      <td>2023</td>\n",
       "      <td>100.0</td>\n",
       "      <td>3</td>\n",
       "      <td>2</td>\n",
       "      <td>77.0</td>\n",
       "      <td>19.0</td>\n",
       "      <td>26</td>\n",
       "      <td>70.0</td>\n",
       "      <td>0</td>\n",
       "      <td>-0.836680</td>\n",
       "      <td>-0.164827</td>\n",
       "    </tr>\n",
       "    <tr>\n",
       "      <th>1</th>\n",
       "      <td>2023</td>\n",
       "      <td>100.0</td>\n",
       "      <td>2</td>\n",
       "      <td>0</td>\n",
       "      <td>66.0</td>\n",
       "      <td>19.0</td>\n",
       "      <td>75</td>\n",
       "      <td>70.0</td>\n",
       "      <td>2</td>\n",
       "      <td>-1.750856</td>\n",
       "      <td>-0.239277</td>\n",
       "    </tr>\n",
       "    <tr>\n",
       "      <th>2</th>\n",
       "      <td>2023</td>\n",
       "      <td>100.0</td>\n",
       "      <td>2</td>\n",
       "      <td>0</td>\n",
       "      <td>66.0</td>\n",
       "      <td>19.0</td>\n",
       "      <td>75</td>\n",
       "      <td>70.0</td>\n",
       "      <td>2</td>\n",
       "      <td>-1.824518</td>\n",
       "      <td>-0.245978</td>\n",
       "    </tr>\n",
       "    <tr>\n",
       "      <th>3</th>\n",
       "      <td>2023</td>\n",
       "      <td>100.0</td>\n",
       "      <td>3</td>\n",
       "      <td>2</td>\n",
       "      <td>47.0</td>\n",
       "      <td>19.0</td>\n",
       "      <td>11</td>\n",
       "      <td>70.0</td>\n",
       "      <td>1</td>\n",
       "      <td>0.622692</td>\n",
       "      <td>-0.023371</td>\n",
       "    </tr>\n",
       "    <tr>\n",
       "      <th>4</th>\n",
       "      <td>2023</td>\n",
       "      <td>100.0</td>\n",
       "      <td>3</td>\n",
       "      <td>2</td>\n",
       "      <td>47.0</td>\n",
       "      <td>19.0</td>\n",
       "      <td>11</td>\n",
       "      <td>70.0</td>\n",
       "      <td>1</td>\n",
       "      <td>-0.277620</td>\n",
       "      <td>-0.105266</td>\n",
       "    </tr>\n",
       "  </tbody>\n",
       "</table>\n",
       "</div>"
      ],
      "text/plain": [
       "   work_year  remote_ratio  en_experience_level  en_employment_type  \\\n",
       "0       2023         100.0                    3                   2   \n",
       "1       2023         100.0                    2                   0   \n",
       "2       2023         100.0                    2                   0   \n",
       "3       2023         100.0                    3                   2   \n",
       "4       2023         100.0                    3                   2   \n",
       "\n",
       "   en_job_title  en_salary_currency  en_employee_residence  \\\n",
       "0          77.0                19.0                     26   \n",
       "1          66.0                19.0                     75   \n",
       "2          66.0                19.0                     75   \n",
       "3          47.0                19.0                     11   \n",
       "4          47.0                19.0                     11   \n",
       "\n",
       "   en_company_location  en_comapny_size  salary_in_usd_ss  salary_ss  \n",
       "0                 70.0                0         -0.836680  -0.164827  \n",
       "1                 70.0                2         -1.750856  -0.239277  \n",
       "2                 70.0                2         -1.824518  -0.245978  \n",
       "3                 70.0                1          0.622692  -0.023371  \n",
       "4                 70.0                1         -0.277620  -0.105266  "
      ]
     },
     "execution_count": 144,
     "metadata": {},
     "output_type": "execute_result"
    }
   ],
   "source": [
    "df.drop(columns=['salary_in_usd','salary']).head()"
   ]
  },
  {
   "cell_type": "raw",
   "id": "691e2a99-e504-42a3-8062-e837a692644a",
   "metadata": {},
   "source": [
    "<--------Step8: Training Data for Model---------->"
   ]
  },
  {
   "cell_type": "code",
   "execution_count": 145,
   "id": "fe11bd09-f281-4c2e-b88d-3369fd55b879",
   "metadata": {},
   "outputs": [],
   "source": [
    "from sklearn.model_selection import train_test_split"
   ]
  },
  {
   "cell_type": "code",
   "execution_count": 146,
   "id": "d10e60b1-13f1-4bec-8fa3-525b6a21225a",
   "metadata": {},
   "outputs": [
    {
     "data": {
      "text/plain": [
       "0       -0.164827\n",
       "1       -0.239277\n",
       "2       -0.245978\n",
       "3       -0.023371\n",
       "4       -0.105266\n",
       "          ...    \n",
       "3750     0.329525\n",
       "3751    -0.059107\n",
       "3752    -0.127602\n",
       "3753    -0.135047\n",
       "3754    10.139124\n",
       "Name: salary_ss, Length: 3755, dtype: float64"
      ]
     },
     "execution_count": 146,
     "metadata": {},
     "output_type": "execute_result"
    }
   ],
   "source": [
    "x=df.drop(columns=['salary_ss','remote_ratio','en_employee_residence','en_company_location','salary_in_usd_ss'])\n",
    "y=df['salary_ss']\n",
    "y"
   ]
  },
  {
   "cell_type": "code",
   "execution_count": 158,
   "id": "d47dd54b-2253-4211-954b-2b9acdd12bc3",
   "metadata": {},
   "outputs": [
    {
     "data": {
      "text/html": [
       "<div>\n",
       "<style scoped>\n",
       "    .dataframe tbody tr th:only-of-type {\n",
       "        vertical-align: middle;\n",
       "    }\n",
       "\n",
       "    .dataframe tbody tr th {\n",
       "        vertical-align: top;\n",
       "    }\n",
       "\n",
       "    .dataframe thead th {\n",
       "        text-align: right;\n",
       "    }\n",
       "</style>\n",
       "<table border=\"1\" class=\"dataframe\">\n",
       "  <thead>\n",
       "    <tr style=\"text-align: right;\">\n",
       "      <th></th>\n",
       "      <th>work_year</th>\n",
       "      <th>salary</th>\n",
       "      <th>salary_in_usd</th>\n",
       "      <th>en_experience_level</th>\n",
       "      <th>en_employment_type</th>\n",
       "      <th>en_job_title</th>\n",
       "      <th>en_salary_currency</th>\n",
       "      <th>en_comapny_size</th>\n",
       "    </tr>\n",
       "  </thead>\n",
       "  <tbody>\n",
       "    <tr>\n",
       "      <th>0</th>\n",
       "      <td>2023</td>\n",
       "      <td>80000</td>\n",
       "      <td>85847.0</td>\n",
       "      <td>3</td>\n",
       "      <td>2</td>\n",
       "      <td>77.0</td>\n",
       "      <td>19.0</td>\n",
       "      <td>0</td>\n",
       "    </tr>\n",
       "    <tr>\n",
       "      <th>1</th>\n",
       "      <td>2023</td>\n",
       "      <td>30000</td>\n",
       "      <td>30000.0</td>\n",
       "      <td>2</td>\n",
       "      <td>0</td>\n",
       "      <td>66.0</td>\n",
       "      <td>19.0</td>\n",
       "      <td>2</td>\n",
       "    </tr>\n",
       "    <tr>\n",
       "      <th>2</th>\n",
       "      <td>2023</td>\n",
       "      <td>25500</td>\n",
       "      <td>25500.0</td>\n",
       "      <td>2</td>\n",
       "      <td>0</td>\n",
       "      <td>66.0</td>\n",
       "      <td>19.0</td>\n",
       "      <td>2</td>\n",
       "    </tr>\n",
       "    <tr>\n",
       "      <th>3</th>\n",
       "      <td>2023</td>\n",
       "      <td>175000</td>\n",
       "      <td>175000.0</td>\n",
       "      <td>3</td>\n",
       "      <td>2</td>\n",
       "      <td>47.0</td>\n",
       "      <td>19.0</td>\n",
       "      <td>1</td>\n",
       "    </tr>\n",
       "    <tr>\n",
       "      <th>4</th>\n",
       "      <td>2023</td>\n",
       "      <td>120000</td>\n",
       "      <td>120000.0</td>\n",
       "      <td>3</td>\n",
       "      <td>2</td>\n",
       "      <td>47.0</td>\n",
       "      <td>19.0</td>\n",
       "      <td>1</td>\n",
       "    </tr>\n",
       "    <tr>\n",
       "      <th>...</th>\n",
       "      <td>...</td>\n",
       "      <td>...</td>\n",
       "      <td>...</td>\n",
       "      <td>...</td>\n",
       "      <td>...</td>\n",
       "      <td>...</td>\n",
       "      <td>...</td>\n",
       "      <td>...</td>\n",
       "    </tr>\n",
       "    <tr>\n",
       "      <th>3750</th>\n",
       "      <td>2020</td>\n",
       "      <td>412000</td>\n",
       "      <td>295000.0</td>\n",
       "      <td>3</td>\n",
       "      <td>2</td>\n",
       "      <td>47.0</td>\n",
       "      <td>19.0</td>\n",
       "      <td>0</td>\n",
       "    </tr>\n",
       "    <tr>\n",
       "      <th>3751</th>\n",
       "      <td>2021</td>\n",
       "      <td>151000</td>\n",
       "      <td>151000.0</td>\n",
       "      <td>2</td>\n",
       "      <td>2</td>\n",
       "      <td>77.0</td>\n",
       "      <td>19.0</td>\n",
       "      <td>0</td>\n",
       "    </tr>\n",
       "    <tr>\n",
       "      <th>3752</th>\n",
       "      <td>2020</td>\n",
       "      <td>105000</td>\n",
       "      <td>105000.0</td>\n",
       "      <td>0</td>\n",
       "      <td>2</td>\n",
       "      <td>47.0</td>\n",
       "      <td>19.0</td>\n",
       "      <td>2</td>\n",
       "    </tr>\n",
       "    <tr>\n",
       "      <th>3753</th>\n",
       "      <td>2020</td>\n",
       "      <td>100000</td>\n",
       "      <td>100000.0</td>\n",
       "      <td>0</td>\n",
       "      <td>0</td>\n",
       "      <td>17.0</td>\n",
       "      <td>19.0</td>\n",
       "      <td>0</td>\n",
       "    </tr>\n",
       "    <tr>\n",
       "      <th>3754</th>\n",
       "      <td>2021</td>\n",
       "      <td>7000000</td>\n",
       "      <td>94665.0</td>\n",
       "      <td>3</td>\n",
       "      <td>2</td>\n",
       "      <td>45.0</td>\n",
       "      <td>19.0</td>\n",
       "      <td>0</td>\n",
       "    </tr>\n",
       "  </tbody>\n",
       "</table>\n",
       "<p>3755 rows × 8 columns</p>\n",
       "</div>"
      ],
      "text/plain": [
       "      work_year   salary  salary_in_usd  en_experience_level  \\\n",
       "0          2023    80000        85847.0                    3   \n",
       "1          2023    30000        30000.0                    2   \n",
       "2          2023    25500        25500.0                    2   \n",
       "3          2023   175000       175000.0                    3   \n",
       "4          2023   120000       120000.0                    3   \n",
       "...         ...      ...            ...                  ...   \n",
       "3750       2020   412000       295000.0                    3   \n",
       "3751       2021   151000       151000.0                    2   \n",
       "3752       2020   105000       105000.0                    0   \n",
       "3753       2020   100000       100000.0                    0   \n",
       "3754       2021  7000000        94665.0                    3   \n",
       "\n",
       "      en_employment_type  en_job_title  en_salary_currency  en_comapny_size  \n",
       "0                      2          77.0                19.0                0  \n",
       "1                      0          66.0                19.0                2  \n",
       "2                      0          66.0                19.0                2  \n",
       "3                      2          47.0                19.0                1  \n",
       "4                      2          47.0                19.0                1  \n",
       "...                  ...           ...                 ...              ...  \n",
       "3750                   2          47.0                19.0                0  \n",
       "3751                   2          77.0                19.0                0  \n",
       "3752                   2          47.0                19.0                2  \n",
       "3753                   0          17.0                19.0                0  \n",
       "3754                   2          45.0                19.0                0  \n",
       "\n",
       "[3755 rows x 8 columns]"
      ]
     },
     "execution_count": 158,
     "metadata": {},
     "output_type": "execute_result"
    }
   ],
   "source": [
    "x"
   ]
  },
  {
   "cell_type": "code",
   "execution_count": 147,
   "id": "6469ce75-3dd7-4065-80e7-7edbeec4ebf3",
   "metadata": {},
   "outputs": [],
   "source": [
    "x_train,x_test,y_train,y_test=train_test_split(x,y,test_size=0.2)"
   ]
  },
  {
   "cell_type": "code",
   "execution_count": 148,
   "id": "d8ab7fa7-04be-4dca-bf5e-1468649a4736",
   "metadata": {},
   "outputs": [
    {
     "data": {
      "text/plain": [
       "(3004, 8)"
      ]
     },
     "execution_count": 148,
     "metadata": {},
     "output_type": "execute_result"
    }
   ],
   "source": [
    "x_train.shape"
   ]
  },
  {
   "cell_type": "code",
   "execution_count": 149,
   "id": "94025afa-60f4-4c7c-ae13-9da7b81f8911",
   "metadata": {},
   "outputs": [
    {
     "data": {
      "text/plain": [
       "(751, 8)"
      ]
     },
     "execution_count": 149,
     "metadata": {},
     "output_type": "execute_result"
    }
   ],
   "source": [
    "x_test.shape"
   ]
  },
  {
   "cell_type": "code",
   "execution_count": 150,
   "id": "d6539469-7bc2-4c8c-bae2-2245a93f823a",
   "metadata": {},
   "outputs": [
    {
     "data": {
      "text/plain": [
       "(3004,)"
      ]
     },
     "execution_count": 150,
     "metadata": {},
     "output_type": "execute_result"
    }
   ],
   "source": [
    "y_train.shape"
   ]
  },
  {
   "cell_type": "code",
   "execution_count": 151,
   "id": "de4fa23b-2bd3-453c-a0f3-0bb3cbc701b4",
   "metadata": {},
   "outputs": [
    {
     "data": {
      "text/plain": [
       "(751,)"
      ]
     },
     "execution_count": 151,
     "metadata": {},
     "output_type": "execute_result"
    }
   ],
   "source": [
    "y_test.shape"
   ]
  },
  {
   "cell_type": "raw",
   "id": "320588ab-3e28-4a1a-a708-092e2515f7a8",
   "metadata": {},
   "source": [
    "<---------Step9: Model Training and Prediction-------->"
   ]
  },
  {
   "cell_type": "code",
   "execution_count": 152,
   "id": "35a515c9-9849-4797-86fc-ca590ec9b655",
   "metadata": {},
   "outputs": [],
   "source": [
    "from sklearn.ensemble import RandomForestRegressor"
   ]
  },
  {
   "cell_type": "code",
   "execution_count": 153,
   "id": "b3445044-5a09-47e0-b944-aaf8f598fb14",
   "metadata": {},
   "outputs": [
    {
     "data": {
      "text/html": [
       "<style>#sk-container-id-9 {color: black;background-color: white;}#sk-container-id-9 pre{padding: 0;}#sk-container-id-9 div.sk-toggleable {background-color: white;}#sk-container-id-9 label.sk-toggleable__label {cursor: pointer;display: block;width: 100%;margin-bottom: 0;padding: 0.3em;box-sizing: border-box;text-align: center;}#sk-container-id-9 label.sk-toggleable__label-arrow:before {content: \"▸\";float: left;margin-right: 0.25em;color: #696969;}#sk-container-id-9 label.sk-toggleable__label-arrow:hover:before {color: black;}#sk-container-id-9 div.sk-estimator:hover label.sk-toggleable__label-arrow:before {color: black;}#sk-container-id-9 div.sk-toggleable__content {max-height: 0;max-width: 0;overflow: hidden;text-align: left;background-color: #f0f8ff;}#sk-container-id-9 div.sk-toggleable__content pre {margin: 0.2em;color: black;border-radius: 0.25em;background-color: #f0f8ff;}#sk-container-id-9 input.sk-toggleable__control:checked~div.sk-toggleable__content {max-height: 200px;max-width: 100%;overflow: auto;}#sk-container-id-9 input.sk-toggleable__control:checked~label.sk-toggleable__label-arrow:before {content: \"▾\";}#sk-container-id-9 div.sk-estimator input.sk-toggleable__control:checked~label.sk-toggleable__label {background-color: #d4ebff;}#sk-container-id-9 div.sk-label input.sk-toggleable__control:checked~label.sk-toggleable__label {background-color: #d4ebff;}#sk-container-id-9 input.sk-hidden--visually {border: 0;clip: rect(1px 1px 1px 1px);clip: rect(1px, 1px, 1px, 1px);height: 1px;margin: -1px;overflow: hidden;padding: 0;position: absolute;width: 1px;}#sk-container-id-9 div.sk-estimator {font-family: monospace;background-color: #f0f8ff;border: 1px dotted black;border-radius: 0.25em;box-sizing: border-box;margin-bottom: 0.5em;}#sk-container-id-9 div.sk-estimator:hover {background-color: #d4ebff;}#sk-container-id-9 div.sk-parallel-item::after {content: \"\";width: 100%;border-bottom: 1px solid gray;flex-grow: 1;}#sk-container-id-9 div.sk-label:hover label.sk-toggleable__label {background-color: #d4ebff;}#sk-container-id-9 div.sk-serial::before {content: \"\";position: absolute;border-left: 1px solid gray;box-sizing: border-box;top: 0;bottom: 0;left: 50%;z-index: 0;}#sk-container-id-9 div.sk-serial {display: flex;flex-direction: column;align-items: center;background-color: white;padding-right: 0.2em;padding-left: 0.2em;position: relative;}#sk-container-id-9 div.sk-item {position: relative;z-index: 1;}#sk-container-id-9 div.sk-parallel {display: flex;align-items: stretch;justify-content: center;background-color: white;position: relative;}#sk-container-id-9 div.sk-item::before, #sk-container-id-9 div.sk-parallel-item::before {content: \"\";position: absolute;border-left: 1px solid gray;box-sizing: border-box;top: 0;bottom: 0;left: 50%;z-index: -1;}#sk-container-id-9 div.sk-parallel-item {display: flex;flex-direction: column;z-index: 1;position: relative;background-color: white;}#sk-container-id-9 div.sk-parallel-item:first-child::after {align-self: flex-end;width: 50%;}#sk-container-id-9 div.sk-parallel-item:last-child::after {align-self: flex-start;width: 50%;}#sk-container-id-9 div.sk-parallel-item:only-child::after {width: 0;}#sk-container-id-9 div.sk-dashed-wrapped {border: 1px dashed gray;margin: 0 0.4em 0.5em 0.4em;box-sizing: border-box;padding-bottom: 0.4em;background-color: white;}#sk-container-id-9 div.sk-label label {font-family: monospace;font-weight: bold;display: inline-block;line-height: 1.2em;}#sk-container-id-9 div.sk-label-container {text-align: center;}#sk-container-id-9 div.sk-container {/* jupyter's `normalize.less` sets `[hidden] { display: none; }` but bootstrap.min.css set `[hidden] { display: none !important; }` so we also need the `!important` here to be able to override the default hidden behavior on the sphinx rendered scikit-learn.org. See: https://github.com/scikit-learn/scikit-learn/issues/21755 */display: inline-block !important;position: relative;}#sk-container-id-9 div.sk-text-repr-fallback {display: none;}</style><div id=\"sk-container-id-9\" class=\"sk-top-container\"><div class=\"sk-text-repr-fallback\"><pre>RandomForestRegressor()</pre><b>In a Jupyter environment, please rerun this cell to show the HTML representation or trust the notebook. <br />On GitHub, the HTML representation is unable to render, please try loading this page with nbviewer.org.</b></div><div class=\"sk-container\" hidden><div class=\"sk-item\"><div class=\"sk-estimator sk-toggleable\"><input class=\"sk-toggleable__control sk-hidden--visually\" id=\"sk-estimator-id-9\" type=\"checkbox\" checked><label for=\"sk-estimator-id-9\" class=\"sk-toggleable__label sk-toggleable__label-arrow\">RandomForestRegressor</label><div class=\"sk-toggleable__content\"><pre>RandomForestRegressor()</pre></div></div></div></div></div>"
      ],
      "text/plain": [
       "RandomForestRegressor()"
      ]
     },
     "execution_count": 153,
     "metadata": {},
     "output_type": "execute_result"
    }
   ],
   "source": [
    "model=RandomForestRegressor()\n",
    "model.fit(x_train,y_train)"
   ]
  },
  {
   "cell_type": "code",
   "execution_count": 154,
   "id": "f79872ee-630d-40a6-a5a5-953fd1d625f8",
   "metadata": {},
   "outputs": [
    {
     "data": {
      "text/plain": [
       "0.9814009426216009"
      ]
     },
     "execution_count": 154,
     "metadata": {},
     "output_type": "execute_result"
    }
   ],
   "source": [
    "model.score(x_test,y_test)"
   ]
  },
  {
   "cell_type": "code",
   "execution_count": 155,
   "id": "ee899e29-9ecc-4db8-9e78-ee23be9a2ce2",
   "metadata": {},
   "outputs": [
    {
     "data": {
      "text/plain": [
       "array([-7.14065544e-03, -7.54862251e-02, -1.79716941e-01, -6.03142532e-02,\n",
       "       -7.32154845e-02,  1.38543888e-02,  2.87444912e-02, -7.54862251e-02,\n",
       "       -6.80411740e-02, -5.76106573e-02, -1.59258158e-02, -2.70054180e-01,\n",
       "       -5.52356860e-02, -6.05961228e-02, -1.05266430e-01, -5.75883221e-02,\n",
       "       -2.24387248e-01, -6.05961228e-02,  1.26785392e-01,  1.59414073e-01,\n",
       "       -1.64826839e-01, -1.05266430e-01, -9.33543479e-02,  7.20370468e-02,\n",
       "       -1.24580382e-01, -5.37466757e-02, -1.35046634e-01, -1.35046634e-01,\n",
       "       -3.78797827e-02, -2.38800867e-01, -1.20156532e-01,  8.83049005e-02,\n",
       "       -7.84612676e-02, -9.03763275e-02,  8.45913090e-02, -6.05961228e-02,\n",
       "       -1.53527642e-03,  6.88256686e-02,  6.75942572e-02, -7.22104026e-02,\n",
       "       -4.57060205e-02, -8.48076465e-03, -2.06651886e-01, -2.09497146e-01,\n",
       "       -2.44373645e-03, -8.48076465e-03, -1.05266430e-01,  4.69495770e-02,\n",
       "       -1.43724884e-01,  4.96281575e-02, -1.79716941e-01, -1.49978429e-01,\n",
       "        1.86692592e-01,  1.21768574e-01, -1.35046634e-01, -1.72271890e-01,\n",
       "        5.36928576e-02, -1.24122139e-01,  8.83049005e-02,  2.87717103e-02,\n",
       "        6.60307964e-02, -6.80433479e-02, -9.78213786e-02, -7.54676125e-02,\n",
       "        5.85425640e-02, -1.05266430e-01, -9.63323684e-02, -8.46744903e-02,\n",
       "       -6.05961228e-02, -1.28672182e-01, -6.95301842e-02, -1.57381788e-01,\n",
       "       -5.46311478e-02, -1.76715097e-01, -6.95301842e-02, -9.20849667e-02,\n",
       "       -8.93078882e-02, -9.13218490e-02, -7.73290540e-02, -2.24387248e-01,\n",
       "       -1.26615858e-01, -2.05292181e-01, -2.06505844e-01,  3.27539788e-02,\n",
       "       -2.33234947e-01,  2.05549349e-02, -3.82609693e-02, -2.33708670e-02,\n",
       "       -1.77706250e-02, -5.10664573e-02,  1.68943521e-02, -1.35058547e-01,\n",
       "        8.45793969e-02, -7.14065544e-03,  1.01557092e-01, -1.64826839e-01,\n",
       "       -1.96691658e-01, -7.54862251e-02, -7.34883308e-02, -1.72271890e-01,\n",
       "       -1.05266430e-01, -1.35046634e-01, -7.34883308e-02, -8.29312763e-02,\n",
       "        6.60307964e-02, -2.52025669e-03, -1.42491686e-01, -1.12711481e-01,\n",
       "        1.01676212e-01, -2.35340408e-01, -2.16942197e-01, -1.42491686e-01,\n",
       "       -1.15838402e-01, -4.57060205e-02, -1.57381788e-01, -2.12475167e-01,\n",
       "        8.08598493e-02, -6.05961228e-02,  1.03262008e-01, -1.08832580e-01,\n",
       "       -8.14422661e-02,  1.78074371e+00,  1.81318834e-02, -4.57060205e-02,\n",
       "       -8.54591392e-02, -1.27307355e-01,  1.16057661e-03, -3.35786128e-02,\n",
       "       -5.55305100e-02, -1.79716941e-01,  1.90018972e-02, -6.80411740e-02,\n",
       "       -1.10176322e-01, -4.71220692e-02, -1.29335008e-02, -8.29312763e-02,\n",
       "       -6.65432297e-02, -7.34883308e-02, -1.12711481e-01, -6.05961228e-02,\n",
       "       -1.70976669e-02, -9.48422414e-02, -8.04107095e-02,  1.62755412e-01,\n",
       "        1.53084222e-02, -1.74434350e-01, -6.05961228e-02, -5.31510716e-02,\n",
       "       -1.49936737e-01, -9.14186346e-02, -1.57381788e-01, -1.45323039e-01,\n",
       "       -1.35046634e-01,  2.05549349e-02, -1.35046634e-01, -6.05961228e-02,\n",
       "       -6.05961228e-02, -8.14422661e-02, -7.99232374e-02, -2.33708670e-02,\n",
       "       -1.72271890e-01, -1.12052862e-01,  1.38543888e-02, -1.05266430e-01,\n",
       "        8.10013053e-02, -7.50834479e-02,  2.31601289e-01, -9.03763275e-02,\n",
       "       -2.64888327e-01,  2.69154425e-01, -9.20924117e-02, -1.20156532e-01,\n",
       "       -6.80411740e-02, -1.76491745e-01,  4.95904171e-03,  2.87444912e-02,\n",
       "       -1.91709430e-01, -4.57060205e-02, -1.90140013e-01,  1.77679464e-01,\n",
       "       -6.05961228e-02, -1.03571348e-03, -7.54862251e-02, -2.21334777e-01,\n",
       "       -8.54591392e-02, -1.20089899e-01, -4.57060205e-02, -1.05266430e-01,\n",
       "        9.39986583e-03, -6.80411740e-02,  1.25366365e-01, -1.68540728e-01,\n",
       "       -1.60299057e-01, -2.30342545e-01, -1.05266430e-01,  5.85244576e-02,\n",
       "       -1.64826839e-01, -2.30343289e-01,  2.87444912e-02,  1.59414073e-01,\n",
       "       -1.05266430e-01, -4.57060205e-02,  1.63041302e-01, -3.23049284e-02,\n",
       "       -9.03763275e-02,  6.46964259e-03, -1.15696946e-01, -3.12032781e-03,\n",
       "       -8.84406142e-02, -1.99297426e-01, -1.04704775e-01,  1.38543888e-02,\n",
       "       -1.72242110e-01, -1.35890457e-01, -9.03763275e-02, -2.75400956e-02,\n",
       "       -6.66668175e-02, -9.14186346e-02,  1.38543888e-02, -6.65491857e-02,\n",
       "       -1.94607044e-01, -6.80411740e-02, -2.09497146e-01, -2.33708670e-02,\n",
       "        2.12994400e-02,  9.13275913e-02, -1.05266430e-01, -9.78213786e-02,\n",
       "       -8.48076465e-03,  8.83049005e-02, -8.52469045e-03,  5.85246958e-02,\n",
       "       -4.57060205e-02, -7.54862251e-02,  4.82205277e-03,  2.87444912e-02,\n",
       "        4.81423547e-03, -6.65432297e-02, -1.64826839e-01, -6.80411740e-02,\n",
       "       -1.59258158e-02,  1.78503206e+00,  7.20072666e-02, -1.05266430e-01,\n",
       "        1.62550524e-01, -1.94607044e-01, -7.54862251e-02, -1.05266430e-01,\n",
       "       -6.05961228e-02, -3.08159181e-02, -7.54862251e-02, -6.80411740e-02,\n",
       "       -1.28177994e-01, -1.79716941e-01,  3.45337847e-01, -8.29312763e-02,\n",
       "       -3.82609693e-02, -9.14186346e-02, -1.05266430e-01, -1.92641550e-01,\n",
       "       -9.03763275e-02,  3.41600431e-01, -2.09497146e-01, -8.29312763e-02,\n",
       "        1.38543888e-02,  3.29712761e-03, -8.69456479e-02,  1.03195003e-01,\n",
       "        4.36362314e-02, -9.96530785e-03, -9.96977488e-03,  6.72720592e+00,\n",
       "       -1.42491686e-01, -8.14422661e-02, -1.35046634e-01, -3.33162641e-02,\n",
       "        8.83049005e-02,  2.16702036e-02, -8.75099976e-02, -1.79717046e-01,\n",
       "       -6.80411740e-02, -2.64635412e-02, -5.10664573e-02,  3.45272352e+00,\n",
       "       -1.35046634e-01, -4.57060205e-02, -1.72271890e-01,  1.38543888e-02,\n",
       "       -8.08915496e-03, -4.57060205e-02,  1.33278394e+01,  7.96141354e-04,\n",
       "        1.47257794e-01, -1.02760426e-01, -2.31847190e-01, -1.35046634e-01,\n",
       "       -4.60293144e-02, -6.96478160e-02, -9.63249233e-02, -5.37496537e-02,\n",
       "       -3.32045884e-02, -2.12475167e-01, -1.79716941e-01, -1.14311422e-01,\n",
       "       -2.09497146e-01, -1.44403292e-01, -8.29312763e-02, -1.59258158e-02,\n",
       "        3.76725965e-02, -6.05961228e-02, -8.24582177e-02, -1.94607044e-01,\n",
       "       -1.21200030e-01, -1.49936737e-01, -1.23152421e-01, -1.35046634e-01,\n",
       "        1.82607275e-02, -1.20156532e-01, -5.31510716e-02, -1.11045517e-01,\n",
       "        4.36781322e-02, -6.05961228e-02, -9.03763275e-02, -5.31510716e-02,\n",
       "       -8.69456479e-02, -2.24387248e-01, -8.48076465e-03,  4.53625601e-02,\n",
       "       -1.76718075e-01, -7.22104026e-02, -5.31510716e-02, -2.71801146e-01,\n",
       "       -1.17191913e-01, -1.62355514e-01, -1.66702992e-01, -1.49936737e-01,\n",
       "       -9.03763275e-02, -1.79716941e-01, -1.05266430e-01, -7.14065544e-03,\n",
       "       -8.29312763e-02,  9.12829209e-02,  1.40318789e-02,  1.62018352e-01,\n",
       "       -7.54862251e-02,  6.46964259e-03, -1.25367323e-01, -1.14414164e-01,\n",
       "       -8.41953864e-02,  1.22117128e-02,  1.22434526e+00,  6.69251199e+00,\n",
       "       -2.31831555e-01, -7.32154845e-02, -1.35046634e-01, -7.71000144e-02,\n",
       "       -2.54212123e-01,  1.90063642e-02, -7.32154845e-02,  4.36781322e-02,\n",
       "       -7.09825648e-02, -1.64826839e-01, -7.62307302e-02, -8.44467313e-02,\n",
       "       -6.05961228e-02, -1.79716941e-01, -9.78213786e-02, -1.02288409e-01,\n",
       "       -6.05961228e-02, -1.72271890e-01, -1.35046634e-01,  7.19085750e-02,\n",
       "       -1.94607044e-01, -1.35046634e-01, -5.10664573e-02, -1.61959223e-02,\n",
       "       -1.79716941e-01, -1.35046634e-01,  3.41752093e-02, -9.96828587e-03,\n",
       "       -2.69509976e-01, -7.35362024e-02, -7.14065544e-03, -7.32039447e-02,\n",
       "       -2.33708670e-02, -6.05961228e-02, -5.31510716e-02,  7.02429891e-03,\n",
       "       -2.02052095e-01, -1.68540728e-01, -1.05860762e-02, -8.75099976e-02,\n",
       "       -7.22114896e-02, -7.14065544e-03, -1.24587678e-01, -1.12711481e-01,\n",
       "       -1.35046634e-01, -3.08159181e-02, -4.57060205e-02, -1.49936737e-01,\n",
       "       -1.00814289e-01, -1.54591353e-01, -3.44669712e-02, -5.76210804e-02,\n",
       "        1.38543888e-02, -1.24921365e-01,  1.77943316e-01, -1.42491686e-01,\n",
       "       -4.00477816e-02,  4.80338445e-02, -3.82609693e-02, -7.14065544e-03,\n",
       "       -6.24605125e-02, -1.56482962e-01, -2.65528601e-01, -1.60286772e-01,\n",
       "       -2.90293232e-03, -6.95301842e-02, -1.05266430e-01, -7.32154845e-02,\n",
       "       -2.54137673e-01, -1.79716941e-01, -1.37999342e-01, -7.54862251e-02,\n",
       "       -1.79716941e-01, -1.05266430e-01,  5.85425640e-02, -1.59258158e-02,\n",
       "       -2.30342545e-01, -6.07390678e-02, -1.36519861e-01,  5.94860247e+00,\n",
       "       -7.54862251e-02, -8.29312763e-02,  1.73107538e-02,  5.10796447e-02,\n",
       "       -3.74941290e-02,  4.69117859e-02, -7.54862251e-02, -1.57381788e-01,\n",
       "        4.36345935e-02,  1.10844093e-01, -2.48184610e-01, -1.05266430e-01,\n",
       "       -9.92971367e-02, -1.96691658e-01, -4.57060205e-02,  1.77693163e-01,\n",
       "       -3.08159181e-02, -1.35046634e-01, -1.64826839e-01, -2.09497146e-01,\n",
       "       -1.12711481e-01, -1.75008908e-02, -7.14065544e-03, -1.56577940e-02,\n",
       "        5.85425640e-02, -1.57424314e-01, -1.32718388e-01, -1.49936737e-01,\n",
       "       -8.84301911e-02, -9.03763275e-02, -1.57381788e-01, -1.62759185e-01,\n",
       "       -4.57060205e-02, -1.05266430e-01, -2.09497146e-01, -2.09497146e-01,\n",
       "       -1.79716941e-01, -6.65521637e-02, -1.35046634e-01, -1.44232875e-01,\n",
       "       -1.07007300e-02, -1.52970446e-01, -1.97540394e-01, -2.31995346e-01,\n",
       "       -6.80433479e-02,  8.83049005e-02,  8.83049005e-02, -9.63323684e-02,\n",
       "       -1.62348620e-01, -2.30343289e-01, -2.06499054e-01, -5.08699080e-02,\n",
       "       -2.24387248e-01, -1.12711481e-01, -1.97570174e-01, -5.52356860e-02,\n",
       "       -7.32154845e-02,  7.96141354e-04, -2.75400956e-02,  2.32857716e-01,\n",
       "       -1.35046634e-01, -1.05266430e-01, -7.69910486e-02, -8.44218351e-02,\n",
       "        1.22200512e-02, -1.12711481e-01, -9.48098554e-02,  2.30716839e+00,\n",
       "       -1.11053706e-01, -4.57060205e-02, -1.56771294e-01, -1.64797059e-01,\n",
       "       -6.05961228e-02, -1.04859632e-01, -2.09497146e-01, -2.54107893e-01,\n",
       "       -1.64826839e-01, -1.05266430e-01,  3.96291777e-01, -5.61290921e-02,\n",
       "       -2.90466762e-02, -9.20924117e-02, -1.03571348e-03, -1.21049938e-01,\n",
       "       -2.09497146e-01, -5.31131019e-02, -1.75247150e-02, -1.62675279e-01,\n",
       "       -2.16942197e-01, -1.49936737e-01, -9.03763275e-02, -2.33708670e-02,\n",
       "       -1.45958101e-01, -1.26112722e-01, -1.03571348e-03,  2.17622483e+00,\n",
       "       -6.80433479e-02, -3.82661511e-02, -1.76735943e-01, -1.35046634e-01,\n",
       "       -1.03571348e-03, -1.06733105e-01,  2.87444912e-02, -1.64826839e-01,\n",
       "       -6.05961228e-02, -1.59258158e-02, -2.31847190e-01,  1.77693163e-01,\n",
       "        2.87444912e-02, -6.20111590e-02, -6.80411740e-02, -2.02052095e-01,\n",
       "       -1.62580444e-01,  2.05549349e-02, -1.57381788e-01, -9.93129202e-02,\n",
       "       -1.12711481e-01, -1.35046634e-01, -1.64826839e-01, -1.23139020e-01,\n",
       "       -1.57381788e-01, -1.57381788e-01, -1.35046634e-01, -5.46400819e-02,\n",
       "       -7.22114896e-02, -9.70441153e-02, -1.64826839e-01, -1.25358389e-01,\n",
       "       -1.79716941e-01,  2.05549349e-02, -2.33708670e-02, -9.14186346e-02,\n",
       "        7.27594163e-03, -4.57060205e-02, -1.05266430e-01, -1.20156532e-01,\n",
       "       -5.02519687e-02,  4.69117859e-02,  8.10013053e-02, -1.27601583e-01,\n",
       "        7.34072935e-02, -2.16942197e-01, -7.54676125e-02, -1.35046634e-01,\n",
       "        7.47827667e-02, -2.24387248e-01, -2.33556573e-01,  4.36781322e-02,\n",
       "       -1.49936737e-01, -1.79716941e-01,  2.87444912e-02,  2.28024984e-01,\n",
       "       -6.20111590e-02, -1.27307355e-01, -1.20156532e-01, -5.31510716e-02,\n",
       "       -1.90140013e-01, -1.79716941e-01, -1.17205314e-01, -9.33543479e-02,\n",
       "       -9.03763275e-02,  2.05757810e-02,  3.76874866e-02, -9.33543479e-02,\n",
       "       -6.80411740e-02, -1.79716941e-01,  3.62260231e-02,  2.75465675e-02,\n",
       "        6.49644478e-03,  6.49197775e-03,  4.37747689e-02, -1.62580444e-01,\n",
       "       -1.91634979e-01,  6.60159063e-02, -1.19263126e-01, -1.69128917e-01,\n",
       "       -8.29312763e-02,  7.20072666e-02, -1.35046634e-01,  9.97851694e-02,\n",
       "       -1.12711481e-01, -1.87161993e-01,  8.83049005e-02, -5.90560395e-02,\n",
       "       -1.20156532e-01, -3.97767817e-02, -2.39277351e-01, -4.57134655e-02,\n",
       "       -1.19263126e-01, -1.49936737e-01,  1.20782974e-02, -9.14186346e-02,\n",
       "        2.53940692e-02, -2.38785977e-01,  8.83049005e-02, -1.14306955e-01,\n",
       "       -5.55379550e-02, -2.77426010e-02,  3.45575871e-02, -6.80411740e-02,\n",
       "       -3.69967996e-02, -2.12475167e-01, -2.05737395e-01, -1.06733105e-01,\n",
       "       -8.44467313e-02, -6.05961228e-02, -1.59258158e-02, -6.80411740e-02,\n",
       "       -1.64797059e-01,  1.16057661e-03, -1.17191913e-01, -4.11024773e-02,\n",
       "        5.36928576e-02, -4.87689145e-02, -1.05266430e-01,  9.38239169e-02,\n",
       "       -2.54107893e-01, -2.24320243e-01,  1.16057661e-03, -8.48076465e-03,\n",
       "       -2.33708670e-02, -9.63323684e-02, -2.00458854e-01, -1.62573550e-01,\n",
       "       -5.37466757e-02, -5.31131019e-02,  4.36781322e-02, -8.14422661e-02,\n",
       "       -1.35046634e-01, -1.88119426e-01, -5.20047511e-03, -1.64826839e-01,\n",
       "       -1.05266430e-01,  4.36781322e-02, -1.45340907e-01, -1.62348620e-01,\n",
       "       -3.23406646e-02, -7.32154845e-02, -1.03571348e-03, -5.69257126e-02,\n",
       "        4.36781322e-02,  1.22117128e-02,  9.12829209e-02,  2.05757810e-02,\n",
       "       -4.57060205e-02,  4.36345935e-02,  5.10796447e-02, -2.32189662e-01,\n",
       "       -1.35046634e-01,  2.87444912e-02,  3.00534801e-02, -1.87161993e-01,\n",
       "        1.18312239e-01, -1.20156532e-01, -1.49936737e-01, -3.70042447e-02,\n",
       "        1.16057661e-03, -1.72271890e-01, -1.28338861e-02, -6.07390678e-02,\n",
       "       -1.05266430e-01, -2.30342545e-01, -4.57060205e-02, -1.54596981e-01,\n",
       "       -1.12711481e-01, -1.40734654e-01,  1.47257794e-01, -4.57060205e-02,\n",
       "       -1.57445815e-01,  7.20072666e-02, -1.20156532e-01, -5.80439593e-02,\n",
       "       -7.08149022e-02, -6.20054412e-02,  2.64101996e-02,  1.16057661e-03,\n",
       "       -2.33708670e-02, -4.57060205e-02, -1.31907205e-01, -1.72271890e-01,\n",
       "       -7.22114896e-02,  2.74616344e-02, -1.42491686e-01, -4.57060205e-02,\n",
       "       -9.03763275e-02, -4.19834949e-02, -1.72271890e-01, -6.05961228e-02,\n",
       "        8.83049005e-02, -9.89601141e-02,  3.30805107e-01, -1.11320745e-01,\n",
       "        1.38543888e-02, -9.03763126e-02,  8.17607005e-02, -1.72271890e-01,\n",
       "        1.59414073e-01, -1.87161993e-01, -9.14186346e-02, -4.71116461e-02,\n",
       "       -1.18792301e-01, -1.05266430e-01,  5.85246958e-02, -2.12475167e-01,\n",
       "       -2.44928145e-01,  2.72504698e-01, -1.24921365e-01, -7.14065544e-03,\n",
       "       -3.08159181e-02, -3.08993027e-02, -5.02772819e-02, -1.05266430e-01,\n",
       "        8.83049005e-02, -9.18653377e-02,  7.51716129e-03, -9.18653377e-02,\n",
       "       -9.63323684e-02,  2.05549349e-02, -7.54862251e-02])"
      ]
     },
     "execution_count": 155,
     "metadata": {},
     "output_type": "execute_result"
    }
   ],
   "source": [
    "## Predict y\n",
    "\n",
    "y_predict=model.predict(x_test)\n",
    "y_predict"
   ]
  },
  {
   "cell_type": "code",
   "execution_count": 156,
   "id": "8d05ad1a-1ca8-43fa-863d-abdfeaff9d96",
   "metadata": {},
   "outputs": [],
   "source": [
    "## Get r2\n",
    "from sklearn.metrics import mean_squared_error,r2_score"
   ]
  },
  {
   "cell_type": "code",
   "execution_count": 157,
   "id": "d76a8ef8-08da-4a7e-a23f-dfc700595a36",
   "metadata": {},
   "outputs": [
    {
     "data": {
      "text/plain": [
       "0.9814009426216009"
      ]
     },
     "execution_count": 157,
     "metadata": {},
     "output_type": "execute_result"
    }
   ],
   "source": [
    "r2_score(y_test,y_predict)"
   ]
  },
  {
   "cell_type": "code",
   "execution_count": null,
   "id": "868da4fb-72c3-4542-9150-ac7b12f0c955",
   "metadata": {},
   "outputs": [],
   "source": []
  }
 ],
 "metadata": {
  "kernelspec": {
   "display_name": "Python 3 (ipykernel)",
   "language": "python",
   "name": "python3"
  },
  "language_info": {
   "codemirror_mode": {
    "name": "ipython",
    "version": 3
   },
   "file_extension": ".py",
   "mimetype": "text/x-python",
   "name": "python",
   "nbconvert_exporter": "python",
   "pygments_lexer": "ipython3",
   "version": "3.11.7"
  }
 },
 "nbformat": 4,
 "nbformat_minor": 5
}
